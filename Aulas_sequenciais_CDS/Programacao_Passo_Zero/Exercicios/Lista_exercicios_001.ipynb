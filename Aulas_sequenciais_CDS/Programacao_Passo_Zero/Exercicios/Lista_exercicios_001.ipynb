{
 "cells": [
  {
   "cell_type": "markdown",
   "id": "24c52fe6",
   "metadata": {
    "ExecuteTime": {
     "end_time": "2022-04-26T21:08:04.103105Z",
     "start_time": "2022-04-26T21:08:04.100494Z"
    },
    "heading_collapsed": true
   },
   "source": [
    "## 1. Escreva um algoritmo para ler um valor numérico (do teclado) e escrever (na tela) o seu antecessor. "
   ]
  },
  {
   "cell_type": "markdown",
   "id": "8e1474ba",
   "metadata": {
    "heading_collapsed": true,
    "hidden": true
   },
   "source": [
    "### Resolução"
   ]
  },
  {
   "cell_type": "code",
   "execution_count": null,
   "id": "0b4fb5d3",
   "metadata": {
    "hidden": true
   },
   "outputs": [],
   "source": []
  },
  {
   "cell_type": "markdown",
   "id": "0a738f57",
   "metadata": {
    "heading_collapsed": true,
    "hidden": true
   },
   "source": [
    "### Resposta"
   ]
  },
  {
   "cell_type": "code",
   "execution_count": 1,
   "id": "655d29fb",
   "metadata": {
    "ExecuteTime": {
     "end_time": "2022-04-28T11:14:24.951417Z",
     "start_time": "2022-04-28T11:14:23.117446Z"
    },
    "hidden": true
   },
   "outputs": [
    {
     "name": "stdout",
     "output_type": "stream",
     "text": [
      "Digite um valor numérico: 3\n",
      "O Valor digitado foi 3 e o seu antecessor é 2\n"
     ]
    }
   ],
   "source": [
    "# Cria a variável valor com o conteúdo \n",
    "# que o usuário digitar.\n",
    "valor = int(input( 'Digite um valor numérico: ' ))\n",
    "\n",
    "# Calcula o antecessor do valor digitado\n",
    "# pelo usuário\n",
    "antecessor = valor -1\n",
    "\n",
    "print(f'O Valor digitado foi {valor} e o seu antecessor é {antecessor}')"
   ]
  },
  {
   "cell_type": "markdown",
   "id": "ef305a5d",
   "metadata": {
    "ExecuteTime": {
     "end_time": "2022-04-26T21:08:04.226157Z",
     "start_time": "2022-04-26T21:08:04.223821Z"
    },
    "heading_collapsed": true
   },
   "source": [
    "## 2. Escreva um algoritmo para ler o salário mensal atual de um funcionário e o percentual de reajuste. Calcular e escrever o valor do novo salário. "
   ]
  },
  {
   "cell_type": "markdown",
   "id": "1aae2472",
   "metadata": {
    "heading_collapsed": true,
    "hidden": true
   },
   "source": [
    "### Resolução"
   ]
  },
  {
   "cell_type": "code",
   "execution_count": null,
   "id": "4e1d0a4c",
   "metadata": {
    "hidden": true
   },
   "outputs": [],
   "source": []
  },
  {
   "cell_type": "markdown",
   "id": "b8a278f1",
   "metadata": {
    "heading_collapsed": true,
    "hidden": true
   },
   "source": [
    "### Resposta"
   ]
  },
  {
   "cell_type": "code",
   "execution_count": 2,
   "id": "67130811",
   "metadata": {
    "ExecuteTime": {
     "end_time": "2022-04-28T11:17:21.977614Z",
     "start_time": "2022-04-28T11:17:16.855486Z"
    },
    "hidden": true
   },
   "outputs": [
    {
     "name": "stdout",
     "output_type": "stream",
     "text": [
      "Informe o salario atual: 1000\n",
      "Informe o percentual de reajuste: 10\n",
      "O novo salario é R$11000.0\n"
     ]
    }
   ],
   "source": [
    "# Recebe do usuário os valores do salario e do percentual\n",
    "# de ajuste\n",
    "salario = float(input('Informe o salario atual: '))\n",
    "reajuste = float(input('Informe o percentual de reajuste: '))\n",
    "\n",
    "# Calcula o novo salario\n",
    "novo_salario = salario + (salario * reajuste)\n",
    "\n",
    "# Imprime na tela o novo salario\n",
    "print(f'O novo salario é R${novo_salario}')"
   ]
  },
  {
   "cell_type": "markdown",
   "id": "0bb2d08a",
   "metadata": {
    "ExecuteTime": {
     "end_time": "2022-04-26T21:08:04.716607Z",
     "start_time": "2022-04-26T21:08:04.714347Z"
    },
    "heading_collapsed": true
   },
   "source": [
    "## 3. Escreva um algoritmo para ler o número total de eleitores de um município, o número de votos brancos, nulos e válidos. Calcular e escrever o percentual que cada um representa em relação ao total de eleitores. "
   ]
  },
  {
   "cell_type": "markdown",
   "id": "873b3baf",
   "metadata": {
    "heading_collapsed": true,
    "hidden": true
   },
   "source": [
    "### Resolução"
   ]
  },
  {
   "cell_type": "code",
   "execution_count": null,
   "id": "1b00acf2",
   "metadata": {
    "hidden": true
   },
   "outputs": [],
   "source": []
  },
  {
   "cell_type": "markdown",
   "id": "ae456282",
   "metadata": {
    "heading_collapsed": true,
    "hidden": true
   },
   "source": [
    "### Resposta"
   ]
  },
  {
   "cell_type": "code",
   "execution_count": 7,
   "id": "664833e5",
   "metadata": {
    "ExecuteTime": {
     "end_time": "2022-04-28T11:26:03.268016Z",
     "start_time": "2022-04-28T11:25:54.329794Z"
    },
    "hidden": true
   },
   "outputs": [
    {
     "name": "stdout",
     "output_type": "stream",
     "text": [
      "Informe a quantidade de eleitores: 1000\n",
      "Informe a quantidade de votoso brancos: 200\n",
      "Informe a quantidade de votos nulos: 250\n",
      "Informe a quantidade de votos validos: 550\n",
      "\n",
      "Houveram 1000 nessa votação\n",
      "20.0% votaram em branco\n",
      "25.0% votaram nulo\n",
      "55.0% votaram de forma válida\n"
     ]
    }
   ],
   "source": [
    "# Recebe do usuário as informações de quantidade de eleitores\n",
    "# votos brancos, votos nulos e votos válidos\n",
    "eleitores = int(input('Informe a quantidade de eleitores: '))\n",
    "votos_brancos = int(input('Informe a quantidade de votoso brancos: '))\n",
    "votos_nulos = int(input('Informe a quantidade de votos nulos: '))\n",
    "votos_validos = int(input('Informe a quantidade de votos validos: '))\n",
    "\n",
    "# Calcula o percentual de cada tipo de voto\n",
    "percentual_brancos = (100 * votos_brancos) / eleitores\n",
    "percentual_nulos = (100 * votos_nulos) / eleitores\n",
    "percentual_validos = (100 * votos_validos) / eleitores\n",
    "\n",
    "# Imprime na tela os percentuais calculados\n",
    "print() # Pula uma linha\n",
    "print(f'Houveram {eleitores} nessa votação')\n",
    "print(f'{percentual_brancos}% votaram em branco')\n",
    "print(f'{percentual_nulos}% votaram nulo')\n",
    "print(f'{percentual_validos}% votaram de forma válida')"
   ]
  },
  {
   "cell_type": "markdown",
   "id": "a22a16c4",
   "metadata": {
    "ExecuteTime": {
     "end_time": "2022-04-26T21:08:05.057594Z",
     "start_time": "2022-04-26T21:08:05.055103Z"
    },
    "heading_collapsed": true
   },
   "source": [
    "## 4. O custo de um carro novo ao consumidor é a soma do custo de fábrica com a porcentagem do distribuidor e dos impostos (aplicados ao custo de fábrica). Supondo que o percentual do distribuidor seja de 28% e os impostos de 45%, escrever um algoritmo para ler o custo de fábrica de um carro, calcular e escrever o custo final ao consumidor. "
   ]
  },
  {
   "cell_type": "markdown",
   "id": "21612fce",
   "metadata": {
    "heading_collapsed": true,
    "hidden": true
   },
   "source": [
    "### Resolução"
   ]
  },
  {
   "cell_type": "code",
   "execution_count": null,
   "id": "f0c0a86e",
   "metadata": {
    "hidden": true
   },
   "outputs": [],
   "source": []
  },
  {
   "cell_type": "markdown",
   "id": "ca9e73b7",
   "metadata": {
    "heading_collapsed": true,
    "hidden": true
   },
   "source": [
    "### Resposta"
   ]
  },
  {
   "cell_type": "code",
   "execution_count": null,
   "id": "b0052292",
   "metadata": {
    "ExecuteTime": {
     "end_time": "2022-04-28T11:35:14.156760Z",
     "start_time": "2022-04-28T11:35:12.317280Z"
    },
    "hidden": true
   },
   "outputs": [],
   "source": [
    "# Define os percentuais dos impostos\n",
    "percentual_distribuidor = 0.28\n",
    "impostos = 0.45\n",
    "\n",
    "# Recebe do usuário o valor do custo de fabrica\n",
    "custo_fabrica = float(input('Informe o custo da fábrica: '))\n",
    "\n",
    "# Calcula o valor final do carro\n",
    "custo_carro = custo_fabrica + (custo_fabrica * percentual_distribuidor) + (custo_fabrica * impostos)\n",
    "\n",
    "# Exibe o valor calculado para o usuario\n",
    "print(f'O custo de um carro novo se o custo de fabrica for R${custo_fabrica} é de R${custo_carro}')"
   ]
  },
  {
   "cell_type": "markdown",
   "id": "fccc2a09",
   "metadata": {
    "ExecuteTime": {
     "end_time": "2022-04-26T21:08:37.765132Z",
     "start_time": "2022-04-26T21:08:37.762764Z"
    },
    "heading_collapsed": true
   },
   "source": [
    "## 5. Faça um algoritmo que leia três notas de um aluno, calcule e escreva a média final deste aluno. Considerar que a média é ponderada e que o peso das notas é 2, 3 e 5. Fórmula para o cálculo da média final é:"
   ]
  },
  {
   "cell_type": "markdown",
   "id": "79430168",
   "metadata": {
    "heading_collapsed": true,
    "hidden": true
   },
   "source": [
    "### Resolução"
   ]
  },
  {
   "cell_type": "code",
   "execution_count": null,
   "id": "00d3b924",
   "metadata": {
    "hidden": true
   },
   "outputs": [],
   "source": []
  },
  {
   "cell_type": "markdown",
   "id": "62f8e0ff",
   "metadata": {
    "heading_collapsed": true,
    "hidden": true
   },
   "source": [
    "### Resposta"
   ]
  },
  {
   "cell_type": "code",
   "execution_count": null,
   "id": "022b079d",
   "metadata": {
    "ExecuteTime": {
     "end_time": "2022-04-28T11:38:09.412913Z",
     "start_time": "2022-04-28T11:38:04.647404Z"
    },
    "hidden": true
   },
   "outputs": [],
   "source": [
    "# Recebe do usuário as notas do aluno\n",
    "n1 = float(input('Informa nota N1 do aluno: '))\n",
    "n2 = float(input('Informa nota N2 do aluno: '))\n",
    "n3 = float(input('Informa nota N3 do aluno: '))\n",
    "\n",
    "# Calcula a media final\n",
    "media_final = (n1 * 2 + n2 * 3 + n3 * 5) / 10\n",
    "\n",
    "# Exibe a media final\n",
    "print(f'Media final do aluno é {media_final}')"
   ]
  },
  {
   "cell_type": "markdown",
   "id": "d121b132",
   "metadata": {
    "ExecuteTime": {
     "end_time": "2022-04-26T21:08:55.848177Z",
     "start_time": "2022-04-26T21:08:55.845878Z"
    },
    "heading_collapsed": true
   },
   "source": [
    "## 6. Ler um valor numerico e escrever a mensagem \"É MAIOR QUE 10!\" se o valor lido for maior que 10, caso contrário escrever \"NÃO É MAIOR QUE 10!\""
   ]
  },
  {
   "cell_type": "markdown",
   "id": "f5ace28e",
   "metadata": {
    "heading_collapsed": true,
    "hidden": true
   },
   "source": [
    "### Resolução"
   ]
  },
  {
   "cell_type": "code",
   "execution_count": null,
   "id": "cf64137f",
   "metadata": {
    "hidden": true
   },
   "outputs": [],
   "source": []
  },
  {
   "cell_type": "markdown",
   "id": "7b10cf66",
   "metadata": {
    "heading_collapsed": true,
    "hidden": true
   },
   "source": [
    "### Resposta"
   ]
  },
  {
   "cell_type": "code",
   "execution_count": null,
   "id": "78538bcc",
   "metadata": {
    "ExecuteTime": {
     "end_time": "2022-04-28T11:41:58.589771Z",
     "start_time": "2022-04-28T11:41:57.175623Z"
    },
    "hidden": true
   },
   "outputs": [],
   "source": [
    "# Recebe o valor do usuároio\n",
    "valor = int(input('Informe um valor numérico: '))\n",
    "\n",
    "# Verifica se o valor digitado é maior que 10\n",
    "if valor > 10:\n",
    "    # Imprime a mensagem \"É MAIOR QUE 10!\" se for maior\n",
    "    print(f'É MAIOR QUE 10!')\n",
    "else:\n",
    "    # Imprime a mensagem \"NÃO É MAIOR QUE 10!\" se for maior\n",
    "    print(f'NÃO É MAIOR QUE 10!')"
   ]
  },
  {
   "cell_type": "markdown",
   "id": "a6fa08ac",
   "metadata": {
    "ExecuteTime": {
     "end_time": "2022-04-26T21:09:06.152970Z",
     "start_time": "2022-04-26T21:09:06.150655Z"
    },
    "heading_collapsed": true
   },
   "source": [
    "## 7. Ler um valor numérico e escrever se é positivo ou negativo (considere o valor zero como positivo)"
   ]
  },
  {
   "cell_type": "markdown",
   "id": "7155a419",
   "metadata": {
    "heading_collapsed": true,
    "hidden": true
   },
   "source": [
    "### Resolução"
   ]
  },
  {
   "cell_type": "code",
   "execution_count": null,
   "id": "b6bba800",
   "metadata": {
    "hidden": true
   },
   "outputs": [],
   "source": []
  },
  {
   "cell_type": "markdown",
   "id": "129edc14",
   "metadata": {
    "heading_collapsed": true,
    "hidden": true
   },
   "source": [
    "### Resposta"
   ]
  },
  {
   "cell_type": "code",
   "execution_count": 5,
   "id": "6ca20730",
   "metadata": {
    "ExecuteTime": {
     "end_time": "2022-04-28T11:45:29.399625Z",
     "start_time": "2022-04-28T11:45:26.250917Z"
    },
    "hidden": true
   },
   "outputs": [
    {
     "name": "stdout",
     "output_type": "stream",
     "text": [
      "Informe um valor numerico: -1\n",
      "O valor -1.0 é negativo\n"
     ]
    }
   ],
   "source": [
    "# Recebe um valor numerico do usuario\n",
    "valor = float(input('Informe um valor numerico: '))\n",
    "\n",
    "# Verifica se o valor é Positivo, maior ou igual a zero\n",
    "if valor >= 0:\n",
    "    # Imprime a mensagem dizendo que o valor é positivo \n",
    "    # se ele for maior ou igual a zero\n",
    "    print(f'O valor {valor} é positivo')\n",
    "else:\n",
    "    # Imprime a mensagem dizendo que o valor é negativo \n",
    "    # se ele for menor que zero\n",
    "    print(f'O valor {valor} é negativo')"
   ]
  },
  {
   "cell_type": "markdown",
   "id": "ceee3246",
   "metadata": {
    "ExecuteTime": {
     "end_time": "2022-04-26T21:09:22.532224Z",
     "start_time": "2022-04-26T21:09:22.529824Z"
    },
    "heading_collapsed": true
   },
   "source": [
    "## 8. As maçãs custam R\\\\$ 1,30 cada se forem compradas menos de uma dúzia, e R\\\\$ 1,00 se forem compradas pelo menos 12. Escreva um programa que leia o número de maçãs compradas, calcule e escreva o custo total da compra. "
   ]
  },
  {
   "cell_type": "markdown",
   "id": "7e692f22",
   "metadata": {
    "heading_collapsed": true,
    "hidden": true
   },
   "source": [
    "### Resolução"
   ]
  },
  {
   "cell_type": "code",
   "execution_count": null,
   "id": "ea2aacc7",
   "metadata": {
    "hidden": true
   },
   "outputs": [],
   "source": []
  },
  {
   "cell_type": "markdown",
   "id": "e2c3b953",
   "metadata": {
    "heading_collapsed": true,
    "hidden": true
   },
   "source": [
    "### Resposta"
   ]
  },
  {
   "cell_type": "code",
   "execution_count": 8,
   "id": "f5a90818",
   "metadata": {
    "ExecuteTime": {
     "end_time": "2022-04-28T11:53:01.515270Z",
     "start_time": "2022-04-28T11:53:00.896961Z"
    },
    "hidden": true
   },
   "outputs": [
    {
     "name": "stdout",
     "output_type": "stream",
     "text": [
      "Informe a quantidade de maças compradas: 12\n",
      "O valor total da compra de 12 maçãs foi de R$ 12.0\n"
     ]
    }
   ],
   "source": [
    "# Recebe a quantidade de maças compradas\n",
    "qtd_macas = int(input('Informe a quantidade de maças compradas: '))\n",
    "\n",
    "# Verifica se a quantidade de maças compradas é\n",
    "# menor que 12 unidade\n",
    "if qtd_macas < 12:\n",
    "    # se foram compradas menos de doze, o valor\n",
    "    # unitário da maca é R$ 1.30.\n",
    "    total = qtd_macas * 1.30\n",
    "else:\n",
    "    # se foram compradas doze ou mais, o valor\n",
    "    # unitário da maca é R$ 1.00.\n",
    "    total = qtd_macas * 1.00\n",
    "    \n",
    "print(f'O valor total da compra de {qtd_macas} maçãs foi de R$ {total}')"
   ]
  },
  {
   "cell_type": "markdown",
   "id": "2b513ded",
   "metadata": {
    "ExecuteTime": {
     "end_time": "2022-04-26T21:09:40.985684Z",
     "start_time": "2022-04-26T21:09:40.983285Z"
    },
    "heading_collapsed": true
   },
   "source": [
    "## 9. Ler as notas da primeira e segunda avaliações de um aluno. Calcular a média aritmética simples e escrever uma mensagem que diga se o aluno foi ou não aprovado (considerar que nota igual ou maior que 6 o aluno é aprovado). Escrever também a média calculada. "
   ]
  },
  {
   "cell_type": "markdown",
   "id": "ba03e3ef",
   "metadata": {
    "hidden": true
   },
   "source": [
    "$$ media = \\frac{\\left ( n1 + n2 \\right )}{2} $$"
   ]
  },
  {
   "cell_type": "markdown",
   "id": "f447d12c",
   "metadata": {
    "heading_collapsed": true,
    "hidden": true
   },
   "source": [
    "### Resolução"
   ]
  },
  {
   "cell_type": "code",
   "execution_count": null,
   "id": "53c15898",
   "metadata": {
    "hidden": true
   },
   "outputs": [],
   "source": []
  },
  {
   "cell_type": "markdown",
   "id": "a878cadb",
   "metadata": {
    "heading_collapsed": true,
    "hidden": true
   },
   "source": [
    "### Resposta"
   ]
  },
  {
   "cell_type": "code",
   "execution_count": null,
   "id": "be521b15",
   "metadata": {
    "ExecuteTime": {
     "end_time": "2022-04-28T12:04:36.773432Z",
     "start_time": "2022-04-28T12:04:33.490578Z"
    },
    "hidden": true
   },
   "outputs": [],
   "source": [
    "# Recebe as notas das avaliações do aluno\n",
    "n1 = float(input('Informa a nota da primeira avaliação: '))\n",
    "n2 = float(input('Informa a nota da segunda avaliação: '))\n",
    "\n",
    "# Calcula a media do aluno\n",
    "media = (n1 + n2) / 2\n",
    "\n",
    "# Verifica se a média maior ou igual a 6\n",
    "if media >= 6:\n",
    "    # Se a media for maior ou igual a 6\n",
    "    # Imprimimos na tela a mensagem \n",
    "    # \"Aluno aprovado com media {media}\"\n",
    "    print(f'Aluno aprovado com media {media}')\n",
    "else:\n",
    "    # Se a media for menor que 6\n",
    "    # Imprimimos na tela a mensagem \n",
    "    # \"Aluno não aprovado. Media {media}\"\n",
    "    print(f'Aluno não aprovado. Media {media}')"
   ]
  },
  {
   "cell_type": "markdown",
   "id": "cc8adea7",
   "metadata": {
    "ExecuteTime": {
     "end_time": "2022-04-26T21:09:49.960056Z",
     "start_time": "2022-04-26T21:09:49.957909Z"
    },
    "heading_collapsed": true
   },
   "source": [
    "## 10. Ler dois valores (considere que não serão lidos valores iguais) e escrever o maior deles. "
   ]
  },
  {
   "cell_type": "markdown",
   "id": "9130a3e5",
   "metadata": {
    "heading_collapsed": true,
    "hidden": true
   },
   "source": [
    "### Resolução"
   ]
  },
  {
   "cell_type": "code",
   "execution_count": null,
   "id": "35d7e8d3",
   "metadata": {
    "hidden": true
   },
   "outputs": [],
   "source": []
  },
  {
   "cell_type": "markdown",
   "id": "2b7f1275",
   "metadata": {
    "heading_collapsed": true,
    "hidden": true
   },
   "source": [
    "### Resposta"
   ]
  },
  {
   "cell_type": "code",
   "execution_count": null,
   "id": "3c24c4c5",
   "metadata": {
    "ExecuteTime": {
     "end_time": "2022-04-28T12:07:51.565488Z",
     "start_time": "2022-04-28T12:07:48.884560Z"
    },
    "hidden": true
   },
   "outputs": [],
   "source": [
    "# Recebe do usuário os valores digitados\n",
    "valor_1 = float(input('Informe o primeiro valor: '))\n",
    "valor_2 = float(input('Informe o segundo valor: '))\n",
    "\n",
    "# Verifica se o primeiro valor é maior que o segundo\n",
    "if valor_1 > valor_2:\n",
    "    # Se o primeiro valor for maior que o segundo\n",
    "    # imprime na tela a mensagem \"Primeiro valor maior\"\n",
    "    print(f'Primeiro valor maior')\n",
    "else:\n",
    "    # Se o segundo valor for maior que o primeiro\n",
    "    # imprime na tela a mensagem \"Segundo valor maior\"\n",
    "    print(f'Segundo valor maior')"
   ]
  },
  {
   "cell_type": "markdown",
   "id": "9c25362b",
   "metadata": {
    "ExecuteTime": {
     "end_time": "2022-04-26T21:10:18.663978Z",
     "start_time": "2022-04-26T21:10:18.661551Z"
    },
    "heading_collapsed": true
   },
   "source": [
    "## 11. Escreva uma aplicação que leia o salário fixo e o valor das vendas efetuadas pelo vendedor de uma empresa. Calcule qual será o valor do salário do vendedor com base nas seguintes regras:\n",
    "* Caso o valor total vendido seja menor ou igual a R\\$ 1.500,00, o vendedor terá 3% de comissão de\n",
    "* Caso o valor total vendido seja maior que R\\$ 1.500,00, o vendedor terá 5% de comissão\n",
    "* As porcentagens de comissão não são acumulativas\n",
    "* O Valor da comissão deve ser calculado com base no valor total de vendas feita pelo vendedor\n",
    "* O Valor do salário final deve ser a soma entre o salário base e o valor da comissão"
   ]
  },
  {
   "cell_type": "markdown",
   "id": "baea5ff2",
   "metadata": {
    "heading_collapsed": true,
    "hidden": true
   },
   "source": [
    "### Resolução"
   ]
  },
  {
   "cell_type": "code",
   "execution_count": null,
   "id": "a991060d",
   "metadata": {
    "hidden": true
   },
   "outputs": [],
   "source": []
  },
  {
   "cell_type": "markdown",
   "id": "46839c68",
   "metadata": {
    "heading_collapsed": true,
    "hidden": true
   },
   "source": [
    "### Resposta"
   ]
  },
  {
   "cell_type": "code",
   "execution_count": null,
   "id": "f2f6f057",
   "metadata": {
    "ExecuteTime": {
     "end_time": "2022-04-28T13:53:32.665006Z",
     "start_time": "2022-04-28T13:53:23.686216Z"
    },
    "hidden": true
   },
   "outputs": [],
   "source": [
    "# Recebe do usuário o valor das vendas e do salaŕio fixo\n",
    "salario_fixo = float(input('Qual o valor do salário fixo: '))\n",
    "vendas = float(input('Qual o valor ddas vendas efetuadas: '))\n",
    "\n",
    "# Verifica se as vendas efetuadas foram maiores que \n",
    "# 1500.\n",
    "if vendas > 1500:\n",
    "    # Se as vendas forem maiores que 1500, a comissão\n",
    "    # será de 5%\n",
    "    salario_final = salario_fixo + (vendas * 0.05)\n",
    "else:\n",
    "    # Se as vendas forem menores ou iguais a 1500, a\n",
    "    # comissão será de 3%\n",
    "    salario_final = salario_fixo + (vendas * 0.03)\n",
    "    \n",
    "# Imprime o valor do salario final\n",
    "print(f'O Salario final do vendedor é de R$ {salario_final}')"
   ]
  },
  {
   "cell_type": "markdown",
   "id": "20ff3125",
   "metadata": {
    "ExecuteTime": {
     "end_time": "2022-04-26T21:11:59.436866Z",
     "start_time": "2022-04-26T21:11:59.434692Z"
    },
    "heading_collapsed": true
   },
   "source": [
    "## 12. Escreva um algoritmo para imprimir os números de 1 (inclusive) a 10 (inclusive) em ordem crescente. "
   ]
  },
  {
   "cell_type": "markdown",
   "id": "68347c5a",
   "metadata": {
    "heading_collapsed": true,
    "hidden": true
   },
   "source": [
    "### Resolução"
   ]
  },
  {
   "cell_type": "code",
   "execution_count": null,
   "id": "935cf6e7",
   "metadata": {
    "hidden": true
   },
   "outputs": [],
   "source": []
  },
  {
   "cell_type": "markdown",
   "id": "fa16de6c",
   "metadata": {
    "heading_collapsed": true,
    "hidden": true
   },
   "source": [
    "### Resposta"
   ]
  },
  {
   "cell_type": "code",
   "execution_count": null,
   "id": "3cd88715",
   "metadata": {
    "ExecuteTime": {
     "end_time": "2022-04-28T14:08:46.090205Z",
     "start_time": "2022-04-28T14:08:46.085867Z"
    },
    "hidden": true
   },
   "outputs": [],
   "source": [
    "# Cria a estrutura de repetição que irá\n",
    "# iterar sobre a sequencia de valores \n",
    "# iniciando em 1 e termiando em 10\n",
    "for valor in range(1, 11):\n",
    "    print(valor)"
   ]
  },
  {
   "cell_type": "markdown",
   "id": "ad4102d9",
   "metadata": {
    "ExecuteTime": {
     "end_time": "2022-04-26T22:13:16.851017Z",
     "start_time": "2022-04-26T22:13:16.848590Z"
    },
    "heading_collapsed": true
   },
   "source": [
    "## 13. Ler um valor N e imprimir todos os valores inteiros entre 1 (inclusive) e N (inclusive). Considere que o N será sempre maior que ZERO. "
   ]
  },
  {
   "cell_type": "markdown",
   "id": "a0773dad",
   "metadata": {
    "heading_collapsed": true,
    "hidden": true
   },
   "source": [
    "### Resolução"
   ]
  },
  {
   "cell_type": "code",
   "execution_count": null,
   "id": "53942252",
   "metadata": {
    "hidden": true
   },
   "outputs": [],
   "source": []
  },
  {
   "cell_type": "markdown",
   "id": "dd4d3ca0",
   "metadata": {
    "heading_collapsed": true,
    "hidden": true
   },
   "source": [
    "### Resposta"
   ]
  },
  {
   "cell_type": "code",
   "execution_count": null,
   "id": "306c7a23",
   "metadata": {
    "ExecuteTime": {
     "end_time": "2022-04-28T14:09:27.656175Z",
     "start_time": "2022-04-28T14:09:25.889119Z"
    },
    "hidden": true
   },
   "outputs": [],
   "source": [
    "# Recebe o valor do usuario\n",
    "n = int(input('Informe um valor: '))\n",
    "\n",
    "# Cria a estrutura de repetição que irá\n",
    "# iterar sobre a sequencia de valores \n",
    "# iniciando em 1 e termiando no valor \n",
    "# digitado pelo usuario\n",
    "for valor in range(1, n+1):\n",
    "    print(valor)"
   ]
  },
  {
   "cell_type": "markdown",
   "id": "59f4ece0",
   "metadata": {
    "ExecuteTime": {
     "end_time": "2022-04-26T22:13:19.012502Z",
     "start_time": "2022-04-26T22:13:19.010129Z"
    },
    "heading_collapsed": true
   },
   "source": [
    "## 14. Ler um valor inteiro (considera que será digitado somente valores entre 1 e 10) e escrever a tabuada de 1 a 10 do valor lido. "
   ]
  },
  {
   "cell_type": "markdown",
   "id": "9014c627",
   "metadata": {
    "heading_collapsed": true,
    "hidden": true
   },
   "source": [
    "### Resolução"
   ]
  },
  {
   "cell_type": "code",
   "execution_count": null,
   "id": "070ecdd1",
   "metadata": {
    "hidden": true
   },
   "outputs": [],
   "source": []
  },
  {
   "cell_type": "markdown",
   "id": "4a447d93",
   "metadata": {
    "heading_collapsed": true,
    "hidden": true
   },
   "source": [
    "### Resposta"
   ]
  },
  {
   "cell_type": "code",
   "execution_count": null,
   "id": "0e98831d",
   "metadata": {
    "ExecuteTime": {
     "end_time": "2022-04-28T14:12:52.452076Z",
     "start_time": "2022-04-28T14:12:50.766174Z"
    },
    "hidden": true
   },
   "outputs": [],
   "source": [
    "# Recebe o valor do usuário\n",
    "n = int(input('Informe o valor: '))\n",
    "\n",
    "# Cria a estrutura de repetição que irá\n",
    "# iterar sobre a sequencia de valores \n",
    "# iniciando em 1 e termiando em 10\n",
    "for valor in range(1, 11):\n",
    "    # Irá imprimir o valor que está na\n",
    "    # sequencia, o valor digitado pelo usuario\n",
    "    # e a multiplicação entre esses valores\n",
    "    print(f'{valor} x {n} = {valor*n}')"
   ]
  },
  {
   "cell_type": "markdown",
   "id": "477f7630",
   "metadata": {
    "ExecuteTime": {
     "end_time": "2022-04-26T21:11:12.586065Z",
     "start_time": "2022-04-26T21:11:12.583912Z"
    }
   },
   "source": [
    "## 15. Escreva um algoritmo para ler 2 valores e se o segundo valor informado for ZERO, deve ser lido um novo valor, ou seja, o segundo valor não pode ser aceito o valor zero e imprimir o resultado da divisão do primeiro valor lido pelo segundo valor lido. (utilizar a estrutura `for` ). Efetue 10 tentativas de leitura. Se ao final das 10 tentativas o valor ainda for zero, exibir a mensagem \"Impossível divisão por ZERO\""
   ]
  },
  {
   "cell_type": "markdown",
   "id": "40dec85d",
   "metadata": {
    "heading_collapsed": true
   },
   "source": [
    "### Resolução"
   ]
  },
  {
   "cell_type": "code",
   "execution_count": null,
   "id": "0ed912f3",
   "metadata": {
    "hidden": true
   },
   "outputs": [],
   "source": [
    "# tenho que ler 2 valores\n",
    "# se o segundo valor for zero, \n",
    "#  Temos que ler um novo valor\n",
    "#  O segundo valor não pode ser zero\n",
    "# Se o segundo valor for diferente de zero, imprimir a divisão do primeiro pelo segundo\n",
    "# Tentar 10 vezes a leitura do segundo valor\n",
    "# Se no final das 10 tentativas, o valor for zero, imprimir \"Impossivel divisão por ZERO\""
   ]
  },
  {
   "cell_type": "code",
   "execution_count": null,
   "id": "87c058b8",
   "metadata": {
    "ExecuteTime": {
     "end_time": "2022-05-05T22:52:11.030674Z",
     "start_time": "2022-05-05T22:51:54.470678Z"
    },
    "hidden": true
   },
   "outputs": [],
   "source": [
    "# recebe o primeiro valor com a conversão de tipo\n",
    "valor_1 = float(input(f'Digite o primeiro valor: '))\n",
    "\n",
    "for tentativa in range(1, 15):\n",
    "    valor_2 = float(input(f'Digite o segundo valor valor: '))\n",
    "    \n",
    "    if valor_2 == 0:\n",
    "        print(f'Tentativa = {tentativa}')\n",
    "        print()\n",
    "        \n",
    "        if tentativa == 10:\n",
    "            print(f'Impossivel divião por Zero')\n",
    "            \n",
    "            break\n",
    "    \n",
    "    else:\n",
    "        print(f'Valor {valor_1} dividido pelo valor {valor_2} é igual a: ')\n",
    "        print(valor_1 / valor_2)\n",
    "        \n",
    "        break"
   ]
  },
  {
   "cell_type": "code",
   "execution_count": null,
   "id": "0b6aa1d6",
   "metadata": {
    "hidden": true
   },
   "outputs": [],
   "source": [
    "idade = 18\n",
    "\n",
    "if idade > 18:\n",
    "    print(f'Você tem mais de 18 anos')\n",
    "else:\n",
    "    print(f'voce tem menos de 18 anos')"
   ]
  },
  {
   "cell_type": "code",
   "execution_count": 17,
   "id": "f778a707",
   "metadata": {
    "ExecuteTime": {
     "end_time": "2022-05-05T23:11:35.254565Z",
     "start_time": "2022-05-05T23:11:35.246598Z"
    },
    "hidden": true
   },
   "outputs": [
    {
     "name": "stdout",
     "output_type": "stream",
     "text": [
      "False\n"
     ]
    },
    {
     "ename": "TypeError",
     "evalue": "'>' not supported between instances of 'str' and 'int'",
     "output_type": "error",
     "traceback": [
      "\u001b[0;31m---------------------------------------------------------------------------\u001b[0m",
      "\u001b[0;31mTypeError\u001b[0m                                 Traceback (most recent call last)",
      "\u001b[0;32m/tmp/ipykernel_92039/1299380437.py\u001b[0m in \u001b[0;36m<module>\u001b[0;34m\u001b[0m\n\u001b[1;32m      7\u001b[0m     \u001b[0mprint\u001b[0m\u001b[0;34m(\u001b[0m\u001b[0;32mFalse\u001b[0m\u001b[0;34m)\u001b[0m\u001b[0;34m\u001b[0m\u001b[0;34m\u001b[0m\u001b[0m\n\u001b[1;32m      8\u001b[0m \u001b[0;34m\u001b[0m\u001b[0m\n\u001b[0;32m----> 9\u001b[0;31m \u001b[0mprint\u001b[0m\u001b[0;34m(\u001b[0m\u001b[0ma\u001b[0m \u001b[0;34m>\u001b[0m \u001b[0mb\u001b[0m\u001b[0;34m)\u001b[0m\u001b[0;34m\u001b[0m\u001b[0;34m\u001b[0m\u001b[0m\n\u001b[0m",
      "\u001b[0;31mTypeError\u001b[0m: '>' not supported between instances of 'str' and 'int'"
     ]
    }
   ],
   "source": [
    "a = 'Pedro'\n",
    "b = 1\n",
    "\n",
    "if a == b:\n",
    "    print(True)\n",
    "else:\n",
    "    print(False)\n",
    "\n",
    "print(a > b)"
   ]
  },
  {
   "cell_type": "markdown",
   "id": "554d54a2",
   "metadata": {
    "heading_collapsed": true
   },
   "source": [
    "### Resposta"
   ]
  },
  {
   "cell_type": "code",
   "execution_count": null,
   "id": "c87490b3",
   "metadata": {
    "ExecuteTime": {
     "end_time": "2022-05-05T22:57:33.005464Z",
     "start_time": "2022-05-05T22:57:24.502646Z"
    },
    "hidden": true
   },
   "outputs": [],
   "source": [
    "# Recebe o primeiro valor do usuario\n",
    "valor_1 = float(input('Informe o primeiro valor: '))\n",
    "\n",
    "# Cria a estrutura de para repetirmos as tentativas\n",
    "# de leitura\n",
    "for tentativa in range(1, 11):\n",
    "    \n",
    "    # print de debug\n",
    "    print(f'tentativa = {tentativa}')\n",
    "    \n",
    "    # Recebe o segundo valor do usuario\n",
    "    valor_2 = float(input('Informe o segundo valor: '))\n",
    "    \n",
    "    # Verifica se o valor digitado pelo usuario\n",
    "    # é diferente de zero\n",
    "    if valor_2 != 0:\n",
    "        # Se for diferente, o valor da tentativa\n",
    "        # será decrescido\n",
    "        tentativa = tentativa - 1\n",
    "        \n",
    "        # Interrompe a repetição dos comandos\n",
    "        break\n",
    "        \n",
    "    # pula uma linha\n",
    "    print()\n",
    "   \n",
    "        \n",
    "# Verifica se a quantidade de tentativas é igual a\n",
    "# a 10, que é a quantidade máxima de tentativas\n",
    "if tentativa == 10:\n",
    "    # Se for igual ao valor de tentativas máximas\n",
    "    # Exibiremos ao usuario a mensagem \n",
    "    print(f'Impossível divisão por ZERO')\n",
    "else:\n",
    "    # Se a quantidade de tentativas for menor que\n",
    "    # 10, fará a divisão e exibirá o resultado\n",
    "    divisao = valor_1 / valor_2\n",
    "    \n",
    "    # Imprime na tela o valor da divisão\n",
    "    print(f'O valor da divisão do valor {valor_1} com o valor {valor_2} é {divisao}')"
   ]
  }
 ],
 "metadata": {
  "kernelspec": {
   "display_name": "Python 3",
   "language": "python",
   "name": "python3"
  },
  "language_info": {
   "codemirror_mode": {
    "name": "ipython",
    "version": 3
   },
   "file_extension": ".py",
   "mimetype": "text/x-python",
   "name": "python",
   "nbconvert_exporter": "python",
   "pygments_lexer": "ipython3",
   "version": "3.10.5 (tags/v3.10.5:f377153, Jun  6 2022, 16:14:13) [MSC v.1929 64 bit (AMD64)]"
  },
  "latex_envs": {
   "LaTeX_envs_menu_present": true,
   "autoclose": false,
   "autocomplete": true,
   "bibliofile": "biblio.bib",
   "cite_by": "apalike",
   "current_citInitial": 1,
   "eqLabelWithNumbers": true,
   "eqNumInitial": 1,
   "hotkeys": {
    "equation": "Ctrl-E",
    "itemize": "Ctrl-I"
   },
   "labels_anchors": false,
   "latex_user_defs": false,
   "report_style_numbering": false,
   "user_envs_cfg": false
  },
  "toc": {
   "base_numbering": 1,
   "nav_menu": {},
   "number_sections": false,
   "sideBar": true,
   "skip_h1_title": false,
   "title_cell": "Table of Contents",
   "title_sidebar": "Contents",
   "toc_cell": false,
   "toc_position": {},
   "toc_section_display": true,
   "toc_window_display": false
  },
  "vscode": {
   "interpreter": {
    "hash": "df95319d8ce4e1d89f5365ae10992bc1f65da593082b1d264e8f529830ec2f02"
   }
  }
 },
 "nbformat": 4,
 "nbformat_minor": 5
}
