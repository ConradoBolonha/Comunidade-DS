{
 "cells": [
  {
   "attachments": {},
   "cell_type": "markdown",
   "id": "d23c4e15",
   "metadata": {
    "heading_collapsed": true
   },
   "source": [
    "# 1. Faça um algoritmo para somar dois números e multiplicar o resultado pelo primeiro número"
   ]
  },
  {
   "cell_type": "code",
   "execution_count": 3,
   "id": "19a31f09",
   "metadata": {
    "hidden": true
   },
   "outputs": [
    {
     "name": "stdout",
     "output_type": "stream",
     "text": [
      "A soma é entre 2 e 6 é 8.\n",
      "A multiplicação entre 8 e 2 é 16\n"
     ]
    }
   ],
   "source": [
    "n1 = 2\n",
    "n2 = 6\n",
    "soma = n1 + n2\n",
    "mult = soma * n1\n",
    "print(f'A soma é entre {n1} e {n2} é {soma}.')\n",
    "print(f'A multiplicação entre {soma} e {n1} é {mult}')"
   ]
  },
  {
   "attachments": {},
   "cell_type": "markdown",
   "id": "fb8dab54",
   "metadata": {
    "heading_collapsed": true
   },
   "source": [
    "### 2. Construa um algoritmo que:\n",
    "\n",
    "# Leia a cotação do dólar\n",
    "# Leia um valor em dólares\n",
    "# Converta esse valor para Real\n",
    "# Mostre o resultado"
   ]
  },
  {
   "cell_type": "code",
   "execution_count": 2,
   "id": "168baae0",
   "metadata": {},
   "outputs": [
    {
     "name": "stdout",
     "output_type": "stream",
     "text": [
      "R$ 10.00 corresponde a U$ 53.00\n"
     ]
    }
   ],
   "source": [
    "vl_dolar = 5.30\n",
    "qtade_real = float(input('Digite a quantidade em real R$ '))\n",
    "conv_dol_real = qtade_real * vl_dolar\n",
    "print(f'R$ {qtade_real:.2f} corresponde a U$ {conv_dol_real:.2f}')"
   ]
  },
  {
   "attachments": {},
   "cell_type": "markdown",
   "id": "08c2a265",
   "metadata": {
    "heading_collapsed": true
   },
   "source": [
    "# 3. Desenvolva um algoritmo que:\n",
    "\n",
    "* Leia 4 (quatro) números\n",
    "* Calcule a raiz quadrada para cada um\n",
    "* Somem todos\n",
    "* Mostre o resultado"
   ]
  },
  {
   "cell_type": "code",
   "execution_count": 12,
   "id": "a3033d76",
   "metadata": {
    "hidden": true
   },
   "outputs": [
    {
     "name": "stdout",
     "output_type": "stream",
     "text": [
      "A raiz quadrada de 6 é 2.45, 6 = 2.45, 6 = 2.45 e 6 = 2.45\n",
      "A soma de 6, 6, 6 e 6 é 24\n"
     ]
    }
   ],
   "source": [
    "import math\n",
    "\n",
    "n1 = int(input('Digite um número: '))\n",
    "n2 = int(input('Digite um segundo número: '))\n",
    "n3 = int(input('Digite um terceiro número: '))\n",
    "n4 = int(input('Digite um quarto número: '))\n",
    "\n",
    "print(f'A raiz quadrada de {n1} é {math.sqrt(n1):.2f}, {n2} = {math.sqrt(n2):.2f}, {n3} = {math.sqrt(n3):.2f} e {n4} = {math.sqrt(n4):.2f}')\n",
    "print(f'A soma de {n1}, {n2}, {n3} e {n4} é {n1 + n2 + n3 + n4}')"
   ]
  },
  {
   "attachments": {},
   "cell_type": "markdown",
   "id": "bc4262e0",
   "metadata": {
    "heading_collapsed": true
   },
   "source": [
    "# 4. Ler um número e verificar se ele é PAR ou ÍMPAR. Quando for PAR armazenar esse valor em P e quando for ÍMPAR armazená-lo em I. Exibir P e I no final do processamento."
   ]
  },
  {
   "cell_type": "code",
   "execution_count": 9,
   "id": "4b5fade7",
   "metadata": {
    "hidden": true
   },
   "outputs": [
    {
     "name": "stdout",
     "output_type": "stream",
     "text": [
      "O valor de I (9) é um número ÍMPAR!\n"
     ]
    }
   ],
   "source": [
    "num = int(input('Digite um número: '))\n",
    "p = 0\n",
    "i = 0\n",
    "\n",
    "if num % 2 == 0:\n",
    "    p = num\n",
    "    print(f'O valor de P ({p}) é um número PAR!')\n",
    "else:\n",
    "    i = num\n",
    "    print(f'O valor de I ({i}) é um número ÍMPAR!')"
   ]
  },
  {
   "attachments": {},
   "cell_type": "markdown",
   "id": "5aaec516",
   "metadata": {
    "heading_collapsed": true
   },
   "source": [
    "# 5. Tendo como dados de entrada a altura e o sexo de uma pessoa, construa um algoritmo que calcule seu peso ideal (IMC), utilizando as seguintes fórmulas:\n",
    "\n",
    "# Homens: (72.7 * h) - 58 $$\n",
    "# Mulheres: (62.1 * h) - 44.7 $$\n",
    "# onde h = altura "
   ]
  },
  {
   "cell_type": "code",
   "execution_count": null,
   "id": "a339f415",
   "metadata": {
    "hidden": true
   },
   "outputs": [],
   "source": [
    "altura = float(input(f'Informe a altura: '))\n",
    "sexo = input('Informe o sexo (m = mascuino / f = feminino): ')\n",
    "\n",
    "if sexo  == 'mM':\n",
    "    p = 72.7 * altura - 58\n",
    "else: \n",
    "    p = 62.1 * altura - 44.7\n",
    "print(f'O peso ideal é {p:.2f} Kg')"
   ]
  },
  {
   "attachments": {},
   "cell_type": "markdown",
   "id": "fb78c0c5",
   "metadata": {
    "heading_collapsed": true
   },
   "source": [
    "# 6. Elabore um algoritmo que leia as horas trabalhadas de um operário e calcule o salário sabendo-se que ele ganha R$ 10,00 por hora. Quando o número de horas exceder a 50 calcule o excesso de pagamento. A hora excedente de trabalho vale R$ 20,00. No final do processamento imprimir o salário total e o salário excedente."
   ]
  },
  {
   "cell_type": "code",
   "execution_count": null,
   "id": "38f714bd",
   "metadata": {
    "hidden": true
   },
   "outputs": [],
   "source": [
    "\n",
    "hora = float(input(f'Horas trabalhadas pelo colaborador: '))\n",
    "\n",
    "sal_exced = (hora - 50) * 20\n",
    "sal_base = hora * 10\n",
    "sal_base_exced = sal_exced + sal_base\n",
    "\n",
    "if hora > 50:\n",
    "    print(f'O salário final do colaborador é de R$ {sal_base_exced:.2f}')\n",
    "else: \n",
    "    print(f'O salário final do colaborador é de R$ {sal_base:.2f}')\n",
    "    \n",
    "    "
   ]
  },
  {
   "attachments": {},
   "cell_type": "markdown",
   "id": "dc3c8186",
   "metadata": {
    "heading_collapsed": true
   },
   "source": [
    "# 7. Desenvolva um diagrama que:\n",
    "\n",
    "* Leia 4 (quatro) números;\n",
    "* Calcule a raiz quadrada de cada um;\n",
    "* Se o valor resultante da raiz quadrada do terceiro for >= 100, imprima-o e o programa deve ser finalizado;\n",
    "\n",
    "* Caso contrário, o programa continua e imprima os valores dos quatro números."
   ]
  },
  {
   "cell_type": "code",
   "execution_count": null,
   "id": "f80c4598",
   "metadata": {
    "hidden": true
   },
   "outputs": [],
   "source": [
    "import math\n",
    "\n",
    "n1 = int(input('Digite um número: '))\n",
    "n2 = int(input('Digite um segundo número: '))\n",
    "n3 = int(input('Digite um terceiro número: '))\n",
    "n4 = int(input('Digite um quarto número: '))\n",
    "\n",
    "print(f'A raiz quadrada de {n1} (n1) é {math.sqrt(n1):.2f}')\n",
    "print(f'A raiz quadrada de {n2} (n2) é {math.sqrt(n2):.2f}')\n",
    "\n",
    "while math.sqrt(n3) >= 100:\n",
    "    print(f'A raiz quadrada de {n3} (n3) é {math.sqrt(n3):.2f} e é maior que 100')\n",
    "    break\n",
    "else: \n",
    "    print(f'A raiz quadrada de {n3} (n3) é {math.sqrt(n3):.2f}')\n",
    "    print(f'A raiz quadrada de {n4} (n4) é {math.sqrt(n4):.2f}')\n",
    "\n"
   ]
  },
  {
   "cell_type": "markdown",
   "id": "b470bf02",
   "metadata": {
    "heading_collapsed": true
   },
   "source": [
    "# 8. Faça um algoritmo que leia um número inteiro e mostre uma mensagem indicando se este número é par ou ímpar, e se é positivo ou negativo. Considere valores positivos como sendo maiores ou iguais a zero"
   ]
  },
  {
   "cell_type": "code",
   "execution_count": null,
   "id": "a21955ee",
   "metadata": {},
   "outputs": [],
   "source": [
    "n1 = int(input('Digite um número: '))\n",
    "\n",
    "if n1 % 2 == 0:\n",
    "      \n",
    "    if n1 >= 0:\n",
    "        print(f'O número {n1} é PAR POSITIVO')    \n",
    "    else:\n",
    "        print (f'O número {n1} é PAR NEGATIVO')\n",
    "       \n",
    "else:    \n",
    "    if n1 >= 0:\n",
    "        print(f'O número {n1} é ÍMPAR POSITIVO')\n",
    "    else:\n",
    "        print(f'O número {n1} é ÍMPAR NEGATIVO')"
   ]
  },
  {
   "attachments": {},
   "cell_type": "markdown",
   "id": "25620a10",
   "metadata": {
    "heading_collapsed": true
   },
   "source": [
    "# 9. Elabore um algoritmo que escreva na tela os números ímpares que estão entre os valores 100 e 201, todos na mesma linha e separados por espaço"
   ]
  },
  {
   "cell_type": "code",
   "execution_count": 32,
   "id": "e39af74e",
   "metadata": {
    "ExecuteTime": {
     "end_time": "2022-05-06T12:19:05.730171Z",
     "start_time": "2022-05-06T12:19:05.721567Z"
    },
    "hidden": true
   },
   "outputs": [
    {
     "name": "stdout",
     "output_type": "stream",
     "text": [
      "101 103 105 107 109 111 113 115 117 119 121 123 125 127 129 131 133 135 137 139 141 143 145 147 149 151 153 155 157 159 161 163 165 167 169 171 173 175 177 179 181 183 185 187 189 191 193 195 197 199 201 "
     ]
    }
   ],
   "source": [
    "for numeros in range(100, 202):\n",
    "    if numeros % 2 != 0:\n",
    "        print(f'{numeros}', end=' ')\n"
   ]
  },
  {
   "attachments": {},
   "cell_type": "markdown",
   "id": "266fae8e",
   "metadata": {
    "heading_collapsed": true
   },
   "source": [
    "# 10. Construa um algoritmo que leia 4 valores inteiros e positivos e:\n",
    "\n",
    "* Encontre o maior valor\n",
    "* Encontre o menor valor\n",
    "* Calcule a média dos números lidos"
   ]
  },
  {
   "cell_type": "code",
   "execution_count": 1,
   "id": "41c12358",
   "metadata": {
    "hidden": true
   },
   "outputs": [],
   "source": [
    "n1 = int(input('Digite um valor: '))\n",
    "n2 = int(input('Digite um segundo valor: '))\n",
    "n3 = int(input('Digite um trerceiro valor: '))\n",
    "n4 = int(input('Digite um quarto valor: '))\n",
    "\n",
    "if n1 > n2 > n3 > n4:\n",
    "    print(f'{n1}')\n",
    "    if n2 > n1 > n3 > n4:\n",
    "        print(f'{n2}')\n",
    "    if n3 > n1 > n2 > n4:\n",
    "        print(f'{n3}')\n",
    "    else:\n",
    "        print(n4)\n"
   ]
  },
  {
   "cell_type": "code",
   "execution_count": null,
   "id": "573b490c",
   "metadata": {},
   "outputs": [],
   "source": [
    "# 11. Ler dois valores inteiros (considere que não serão lidos valores iguais) e escreva\n",
    "# o maior deles."
   ]
  },
  {
   "cell_type": "code",
   "execution_count": 11,
   "id": "db2aeae9",
   "metadata": {},
   "outputs": [
    {
     "name": "stdout",
     "output_type": "stream",
     "text": [
      "9\n",
      "Maior:  9\n"
     ]
    }
   ],
   "source": [
    "n1 = int(input('Primeiro numero: '))\n",
    "n2  = int(input('Segundo numero : '))\n",
    "\n",
    "# Achando o maior número\n",
    "maior = n1\n",
    "\n",
    "if (n2 > maior):\n",
    "    maior = n2\n",
    "else:\n",
    " print('Maior: ',maior)\n"
   ]
  },
  {
   "cell_type": "code",
   "execution_count": null,
   "id": "371b436a",
   "metadata": {},
   "outputs": [],
   "source": [
    "# 12. Ler o salário fixo e o valor das vendas efetuadas pelo vendedor de uma empresa.\n",
    "# Sabendo-se que ele recebe uma comissão de 3% sobre o total das vendas até R$ 1.500,00\n",
    "# mais 5% sobre o que ultrapassar este valor, calcular e escrever o seu salário total."
   ]
  },
  {
   "cell_type": "code",
   "execution_count": null,
   "id": "eb44405c",
   "metadata": {},
   "outputs": [],
   "source": []
  },
  {
   "cell_type": "code",
   "execution_count": null,
   "id": "9f2fbd85",
   "metadata": {},
   "outputs": [],
   "source": [
    "# 13. Leu um valor N e imprimir todos os valores inteiros entre 1 e N. Considere que o N será\n",
    "# sempre maior que zero."
   ]
  },
  {
   "cell_type": "code",
   "execution_count": null,
   "id": "f5205799",
   "metadata": {},
   "outputs": [],
   "source": []
  },
  {
   "cell_type": "code",
   "execution_count": null,
   "id": "d4372082",
   "metadata": {},
   "outputs": [],
   "source": [
    "# 14. Ler uma valor inteiro (Considere que será digitado somente valores entre 1 e 10) e\n",
    "# escreva a tabuada de 1 ao 10."
   ]
  },
  {
   "cell_type": "code",
   "execution_count": null,
   "id": "4245e60f",
   "metadata": {},
   "outputs": [],
   "source": []
  },
  {
   "cell_type": "code",
   "execution_count": null,
   "id": "bc6c4bc6",
   "metadata": {},
   "outputs": [],
   "source": [
    "# 15. Escreva uma algoritmo para ler dois valores e se o segundo valor informado for\n",
    "# igual a ZERP, deve ser lido um novo valor, ou seja, para o segundo valor não pode\n",
    "# ser aceito o valor zero e imprimir o resultado da divisão do primeiro valo lido pelo\n",
    "# segundo lido (Utilize a estrutura for \\ Efetue 10 tentativas de leituras e se ao final\n",
    "# de 10 tentativas o valor ainda for 0, exibir a mensagem \"Impossível divisão por ZERO\". "
   ]
  },
  {
   "cell_type": "code",
   "execution_count": null,
   "id": "3f4aa8f1",
   "metadata": {},
   "outputs": [],
   "source": []
  }
 ],
 "metadata": {
  "kernelspec": {
   "display_name": "Python 3",
   "language": "python",
   "name": "python3"
  },
  "language_info": {
   "codemirror_mode": {
    "name": "ipython",
    "version": 3
   },
   "file_extension": ".py",
   "mimetype": "text/x-python",
   "name": "python",
   "nbconvert_exporter": "python",
   "pygments_lexer": "ipython3",
   "version": "3.10.5 (tags/v3.10.5:f377153, Jun  6 2022, 16:14:13) [MSC v.1929 64 bit (AMD64)]"
  },
  "latex_envs": {
   "LaTeX_envs_menu_present": true,
   "autoclose": false,
   "autocomplete": true,
   "bibliofile": "biblio.bib",
   "cite_by": "apalike",
   "current_citInitial": 1,
   "eqLabelWithNumbers": true,
   "eqNumInitial": 1,
   "hotkeys": {
    "equation": "Ctrl-E",
    "itemize": "Ctrl-I"
   },
   "labels_anchors": false,
   "latex_user_defs": false,
   "report_style_numbering": false,
   "user_envs_cfg": false
  },
  "toc": {
   "base_numbering": 1,
   "nav_menu": {},
   "number_sections": false,
   "sideBar": true,
   "skip_h1_title": false,
   "title_cell": "Table of Contents",
   "title_sidebar": "Contents",
   "toc_cell": false,
   "toc_position": {},
   "toc_section_display": true,
   "toc_window_display": false
  },
  "vscode": {
   "interpreter": {
    "hash": "df95319d8ce4e1d89f5365ae10992bc1f65da593082b1d264e8f529830ec2f02"
   }
  }
 },
 "nbformat": 4,
 "nbformat_minor": 5
}
