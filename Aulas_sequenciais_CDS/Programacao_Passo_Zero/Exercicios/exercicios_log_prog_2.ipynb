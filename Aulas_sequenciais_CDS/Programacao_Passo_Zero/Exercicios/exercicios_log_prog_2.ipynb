{
 "cells": [
  {
   "attachments": {},
   "cell_type": "markdown",
   "id": "d23c4e15",
   "metadata": {
    "heading_collapsed": true
   },
   "source": [
    "# 1. Faça um algoritmo para somar dois números e multiplicar o resultado pelo primeiro número"
   ]
  },
  {
   "cell_type": "code",
   "execution_count": 3,
   "id": "19a31f09",
   "metadata": {
    "hidden": true
   },
   "outputs": [
    {
     "name": "stdout",
     "output_type": "stream",
     "text": [
      "A soma é entre 2 e 6 é 8.\n",
      "A multiplicação entre 8 e 2 é 16\n"
     ]
    }
   ],
   "source": [
    "n1 = 2\n",
    "n2 = 6\n",
    "soma = n1 + n2\n",
    "mult = soma * n1\n",
    "print(f'A soma é entre {n1} e {n2} é {soma}.')\n",
    "print(f'A multiplicação entre {soma} e {n1} é {mult}')"
   ]
  },
  {
   "cell_type": "markdown",
   "id": "15732f2b",
   "metadata": {},
   "source": []
  },
  {
   "attachments": {},
   "cell_type": "markdown",
   "id": "fb8dab54",
   "metadata": {
    "heading_collapsed": true
   },
   "source": [
    "### 2. Construa um algoritmo que:\n",
    "\n",
    "# Leia a cotação do dólar\n",
    "# Leia um valor em dólares\n",
    "# Converta esse valor para Real\n",
    "# Mostre o resultado"
   ]
  },
  {
   "cell_type": "code",
   "execution_count": 2,
   "id": "168baae0",
   "metadata": {},
   "outputs": [
    {
     "name": "stdout",
     "output_type": "stream",
     "text": [
      "R$ 10.00 corresponde a U$ 53.00\n"
     ]
    }
   ],
   "source": [
    "vl_dolar = 5.30\n",
    "qtade_real = float(input('Digite a quantidade em real R$ '))\n",
    "conv_dol_real = qtade_real * vl_dolar\n",
    "print(f'R$ {qtade_real:.2f} corresponde a U$ {conv_dol_real:.2f}')"
   ]
  },
  {
   "cell_type": "code",
   "execution_count": null,
   "id": "e5778b7c",
   "metadata": {},
   "outputs": [],
   "source": []
  },
  {
   "attachments": {},
   "cell_type": "markdown",
   "id": "08c2a265",
   "metadata": {
    "heading_collapsed": true
   },
   "source": [
    "# 3. Desenvolva um algoritmo que:\n",
    "\n",
    "* Leia 4 (quatro) números\n",
    "* Calcule a raiz quadrada para cada um\n",
    "* Somem todos\n",
    "* Mostre o resultado"
   ]
  },
  {
   "cell_type": "code",
   "execution_count": 12,
   "id": "a3033d76",
   "metadata": {
    "hidden": true
   },
   "outputs": [
    {
     "name": "stdout",
     "output_type": "stream",
     "text": [
      "A raiz quadrada de 6 é 2.45, 6 = 2.45, 6 = 2.45 e 6 = 2.45\n",
      "A soma de 6, 6, 6 e 6 é 24\n"
     ]
    }
   ],
   "source": [
    "import math\n",
    "\n",
    "n1 = int(input('Digite um número: '))\n",
    "n2 = int(input('Digite um segundo número: '))\n",
    "n3 = int(input('Digite um terceiro número: '))\n",
    "n4 = int(input('Digite um quarto número: '))\n",
    "\n",
    "print(f'A raiz quadrada de {n1} é {math.sqrt(n1):.2f}, {n2} = {math.sqrt(n2):.2f}, {n3} = {math.sqrt(n3):.2f} e {n4} = {math.sqrt(n4):.2f}')\n",
    "print(f'A soma de {n1}, {n2}, {n3} e {n4} é {n1 + n2 + n3 + n4}')"
   ]
  },
  {
   "attachments": {},
   "cell_type": "markdown",
   "id": "bc4262e0",
   "metadata": {
    "heading_collapsed": true
   },
   "source": [
    "# 4. Ler um número e verificar se ele é PAR ou ÍMPAR. Quando for PAR armazenar esse valor em P e quando for ÍMPAR armazená-lo em I. Exibir P e I no final do processamento."
   ]
  },
  {
   "cell_type": "code",
   "execution_count": null,
   "id": "4b5fade7",
   "metadata": {
    "hidden": true
   },
   "outputs": [],
   "source": [
    "num = int(input('Digite um número: '))\n",
    "p = 0\n",
    "i = 0\n",
    "\n",
    "if num % 2 == 0:\n",
    "    p = num\n",
    "    print(f'O valor de P ({p}) é um número PAR!')\n",
    "else:\n",
    "    i = num\n",
    "    print(f'O valor de I ({i}) é um número ÍMPAR!')"
   ]
  },
  {
   "attachments": {},
   "cell_type": "markdown",
   "id": "5aaec516",
   "metadata": {
    "heading_collapsed": true
   },
   "source": [
    "# 5. Tendo como dados de entrada a altura e o sexo de uma pessoa, construa um algoritmo que calcule seu peso ideal (IMC), utilizando as seguintes fórmulas:\n",
    "\n",
    "# Homens: (72.7 * h) - 58 $$\n",
    "# Mulheres: (62.1 * h) - 44.7 $$\n",
    "# onde h = altura "
   ]
  },
  {
   "cell_type": "code",
   "execution_count": null,
   "id": "a339f415",
   "metadata": {
    "hidden": true
   },
   "outputs": [],
   "source": [
    "altura = float(input(f'Informe a altura: '))\n",
    "sexo = input('Informe o sexo (m = mascuino / f = feminino): ')\n",
    "\n",
    "if sexo  == 'mM':\n",
    "    p = 72.7 * altura - 58\n",
    "else: \n",
    "    p = 62.1 * altura - 44.7\n",
    "print(f'O peso ideal é {p:.2f} Kg')"
   ]
  },
  {
   "attachments": {},
   "cell_type": "markdown",
   "id": "fb78c0c5",
   "metadata": {
    "heading_collapsed": true
   },
   "source": [
    "# 6. Elabore um algoritmo que leia as horas trabalhadas de um operário e calcule o salário sabendo-se que ele ganha R$ 10,00 por hora. Quando o número de horas exceder a 50 calcule o excesso de pagamento armazenando-o na variável E, caso contrário zerar tal variável. A hora excedente de trabalho vale R$ 20,00. No final do processamento imprimir o salário total e o salário excedente."
   ]
  },
  {
   "cell_type": "code",
   "execution_count": 5,
   "id": "38f714bd",
   "metadata": {
    "hidden": true
   },
   "outputs": [
    {
     "name": "stdout",
     "output_type": "stream",
     "text": [
      "O valor é de R$ 100.0\n"
     ]
    }
   ],
   "source": [
    "hora = int(input(f'Horas trabalhadas pelo colaborador: '))\n",
    "\n",
    "if hora > 50:\n",
    "    horas_extras = hora - 50\n",
    "    excedente = horas_extras * 20\n",
    "    salario_base = hora - horas_extras * 10    \n",
    "else:\n",
    "    excedente = 0\n",
    "    salario_base = hora * 10\n",
    "    \n",
    "salario_total = excedente + salario_base\n",
    "\n",
    "print(f'O salario final do colaborado é R$ {salario_total}')\n"
   ]
  },
  {
   "attachments": {},
   "cell_type": "markdown",
   "id": "dc3c8186",
   "metadata": {
    "heading_collapsed": true
   },
   "source": [
    "# 7. Desenvolva um diagrama que:\n",
    "\n",
    "* Leia 4 (quatro) números;\n",
    "* Calcule o quadrado de cada um;\n",
    "* Se o valor resultante do quadrado do terceiro for >= 1000, imprima-o e o programa deve ser finalizado;\n",
    "* Caso contrário, imprima os valores lidos e seus respectivos quadrados."
   ]
  },
  {
   "cell_type": "code",
   "execution_count": null,
   "id": "f80c4598",
   "metadata": {
    "hidden": true
   },
   "outputs": [],
   "source": []
  },
  {
   "cell_type": "markdown",
   "id": "b470bf02",
   "metadata": {
    "heading_collapsed": true
   },
   "source": [
    "# 8. Faça um algoritmo que leia um número inteiro e mostre uma mensagem indicando se este número é par ou ímpar, e se é positivo ou negativo. Considere valores positivos como sendo maiores ou iguais a zero"
   ]
  },
  {
   "cell_type": "code",
   "execution_count": null,
   "id": "a21955ee",
   "metadata": {},
   "outputs": [],
   "source": []
  },
  {
   "cell_type": "markdown",
   "id": "25620a10",
   "metadata": {
    "heading_collapsed": true
   },
   "source": [
    "# 9. Elabore um algoritmo que escreva na tela os números ímpares que estão entre os valores 100 (inclusive) e 201 (inclusive), todos na mesma linha e separados por espaço"
   ]
  },
  {
   "cell_type": "code",
   "execution_count": null,
   "id": "e39af74e",
   "metadata": {
    "ExecuteTime": {
     "end_time": "2022-05-06T12:19:05.730171Z",
     "start_time": "2022-05-06T12:19:05.721567Z"
    },
    "hidden": true
   },
   "outputs": [],
   "source": []
  },
  {
   "attachments": {},
   "cell_type": "markdown",
   "id": "266fae8e",
   "metadata": {
    "heading_collapsed": true
   },
   "source": [
    "# 10. Construa um algoritmo que leia 4 valores inteiros e positivos e:\n",
    "\n",
    "* Encontre o maior valor\n",
    "* Encontre o menor valor\n",
    "* Calcule a média dos números lidos"
   ]
  },
  {
   "attachments": {},
   "cell_type": "markdown",
   "id": "41c12358",
   "metadata": {
    "hidden": true
   },
   "source": []
  }
 ],
 "metadata": {
  "kernelspec": {
   "display_name": "Python 3",
   "language": "python",
   "name": "python3"
  },
  "language_info": {
   "codemirror_mode": {
    "name": "ipython",
    "version": 3
   },
   "file_extension": ".py",
   "mimetype": "text/x-python",
   "name": "python",
   "nbconvert_exporter": "python",
   "pygments_lexer": "ipython3",
   "version": "3.10.5"
  },
  "latex_envs": {
   "LaTeX_envs_menu_present": true,
   "autoclose": false,
   "autocomplete": true,
   "bibliofile": "biblio.bib",
   "cite_by": "apalike",
   "current_citInitial": 1,
   "eqLabelWithNumbers": true,
   "eqNumInitial": 1,
   "hotkeys": {
    "equation": "Ctrl-E",
    "itemize": "Ctrl-I"
   },
   "labels_anchors": false,
   "latex_user_defs": false,
   "report_style_numbering": false,
   "user_envs_cfg": false
  },
  "toc": {
   "base_numbering": 1,
   "nav_menu": {},
   "number_sections": false,
   "sideBar": true,
   "skip_h1_title": false,
   "title_cell": "Table of Contents",
   "title_sidebar": "Contents",
   "toc_cell": false,
   "toc_position": {},
   "toc_section_display": true,
   "toc_window_display": false
  },
  "vscode": {
   "interpreter": {
    "hash": "df95319d8ce4e1d89f5365ae10992bc1f65da593082b1d264e8f529830ec2f02"
   }
  }
 },
 "nbformat": 4,
 "nbformat_minor": 5
}
