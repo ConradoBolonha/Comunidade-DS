{
 "cells": [
  {
   "cell_type": "code",
   "execution_count": 2,
   "metadata": {},
   "outputs": [],
   "source": [
    "import pandas as pd\n",
    "\n",
    "df = pd.read_csv('/home/conrado/dados/Comunidade-DS/train.csv')"
   ]
  },
  {
   "cell_type": "code",
   "execution_count": 3,
   "metadata": {},
   "outputs": [],
   "source": [
    "### LIMPANDO CÉLULAS \"NaN\" ###\n",
    "linhas_selecionadas = (df['Delivery_person_Age'] != 'NaN ') \n",
    "df = df.loc[linhas_selecionadas, :].copy()\n",
    "\n",
    "linhas_selecionadas = (df['Road_traffic_density'] != 'NaN ') \n",
    "df = df.loc[linhas_selecionadas, :].copy()\n",
    "\n",
    "linhas_selecionadas = (df['City'] != 'NaN ') \n",
    "df = df.loc[linhas_selecionadas, :].copy()\n",
    "\n",
    "linhas_selecionadas = (df['Festival'] != 'NaN ') \n",
    "df = df.loc[linhas_selecionadas, :].copy()\n",
    "\n",
    "### CONVERTENDO A COLUNA \"Delivery_person_Age\" PARA NÚMERO INTEIRO (int) ###\n",
    "df['Delivery_person_Age'] = df['Delivery_person_Age'].astype( int )\n",
    "\n",
    "### CONVERTENDO A COLUNA \"Delivery_person_Ratings\" PARA NÚMERO DECIMAL (float) ###\n",
    "df['Delivery_person_Ratings'] = df['Delivery_person_Ratings'].astype( float )\n",
    "\n",
    "### CONVERTENDO A COLUNA \"Order_Date\" PARA FORMATO DE DATA ###\n",
    "df['Order_Date'] = pd.to_datetime( df['Order_Date'], format='%d-%m-%Y' )\n",
    "\n",
    "### CONVERTENDO A COLUNA \"multiple_deliveries\" DE TEXTO PARA NÚMERO INTEIRO (int) ###\n",
    "linhas_selecionadas = (df['multiple_deliveries'] != 'NaN ')\n",
    "df = df.loc[linhas_selecionadas, :].copy()\n",
    "df['multiple_deliveries'] = df['multiple_deliveries'].astype( int )\n",
    "\n",
    "### REMOVENDO ESPAÇOS NAS COLUNAS ###\n",
    "df.loc[:, 'ID'] = df.loc[:, 'ID'].str.strip()\n",
    "df.loc[:, 'Road_traffic_density'] = df.loc[:, 'Road_traffic_density'].str.strip()\n",
    "df.loc[:, 'Type_of_order'] = df.loc[:, 'Type_of_order'].str.strip()\n",
    "df.loc[:, 'Type_of_vehicle'] = df.loc[:, 'Type_of_vehicle'].str.strip()\n",
    "df.loc[:, 'City'] = df.loc[:, 'City'].str.strip()\n",
    "df.loc[:, 'Festival'] = df.loc[:, 'Festival'].str.strip()\n",
    "\n",
    "### LIMPANDO A COLUNA TIME TAKEN ###\n",
    "df['Time_taken(min)'] = df['Time_taken(min)'].apply( lambda x: x.split( '(min) ')[1] )\n",
    "df['Time_taken(min)']  = df['Time_taken(min)'].astype( int )"
   ]
  },
  {
   "cell_type": "code",
   "execution_count": 89,
   "metadata": {},
   "outputs": [
    {
     "data": {
      "text/html": [
       "<div>\n",
       "<style scoped>\n",
       "    .dataframe tbody tr th:only-of-type {\n",
       "        vertical-align: middle;\n",
       "    }\n",
       "\n",
       "    .dataframe tbody tr th {\n",
       "        vertical-align: top;\n",
       "    }\n",
       "\n",
       "    .dataframe thead th {\n",
       "        text-align: right;\n",
       "    }\n",
       "</style>\n",
       "<table border=\"1\" class=\"dataframe\">\n",
       "  <thead>\n",
       "    <tr style=\"text-align: right;\">\n",
       "      <th></th>\n",
       "      <th>ID</th>\n",
       "      <th>Delivery_person_ID</th>\n",
       "      <th>Delivery_person_Age</th>\n",
       "      <th>Delivery_person_Ratings</th>\n",
       "      <th>Restaurant_latitude</th>\n",
       "      <th>Restaurant_longitude</th>\n",
       "      <th>Delivery_location_latitude</th>\n",
       "      <th>Delivery_location_longitude</th>\n",
       "      <th>Order_Date</th>\n",
       "      <th>Time_Orderd</th>\n",
       "      <th>Time_Order_picked</th>\n",
       "      <th>Weatherconditions</th>\n",
       "      <th>Road_traffic_density</th>\n",
       "      <th>Vehicle_condition</th>\n",
       "      <th>Type_of_order</th>\n",
       "      <th>Type_of_vehicle</th>\n",
       "      <th>multiple_deliveries</th>\n",
       "      <th>Festival</th>\n",
       "      <th>City</th>\n",
       "      <th>Time_taken(min)</th>\n",
       "    </tr>\n",
       "  </thead>\n",
       "  <tbody>\n",
       "    <tr>\n",
       "      <th>1</th>\n",
       "      <td>0xb379</td>\n",
       "      <td>BANGRES18DEL02</td>\n",
       "      <td>34</td>\n",
       "      <td>4.5</td>\n",
       "      <td>12.913041</td>\n",
       "      <td>77.683237</td>\n",
       "      <td>13.043041</td>\n",
       "      <td>77.813237</td>\n",
       "      <td>2022-03-25</td>\n",
       "      <td>19:45:00</td>\n",
       "      <td>19:50:00</td>\n",
       "      <td>conditions Stormy</td>\n",
       "      <td>Jam</td>\n",
       "      <td>2</td>\n",
       "      <td>Snack</td>\n",
       "      <td>scooter</td>\n",
       "      <td>1</td>\n",
       "      <td>No</td>\n",
       "      <td>Metropolitian</td>\n",
       "      <td>33</td>\n",
       "    </tr>\n",
       "    <tr>\n",
       "      <th>2</th>\n",
       "      <td>0x5d6d</td>\n",
       "      <td>BANGRES19DEL01</td>\n",
       "      <td>23</td>\n",
       "      <td>4.4</td>\n",
       "      <td>12.914264</td>\n",
       "      <td>77.678400</td>\n",
       "      <td>12.924264</td>\n",
       "      <td>77.688400</td>\n",
       "      <td>2022-03-19</td>\n",
       "      <td>08:30:00</td>\n",
       "      <td>08:45:00</td>\n",
       "      <td>conditions Sandstorms</td>\n",
       "      <td>Low</td>\n",
       "      <td>0</td>\n",
       "      <td>Drinks</td>\n",
       "      <td>motorcycle</td>\n",
       "      <td>1</td>\n",
       "      <td>No</td>\n",
       "      <td>Urban</td>\n",
       "      <td>26</td>\n",
       "    </tr>\n",
       "  </tbody>\n",
       "</table>\n",
       "</div>"
      ],
      "text/plain": [
       "       ID Delivery_person_ID  Delivery_person_Age  Delivery_person_Ratings  \\\n",
       "1  0xb379    BANGRES18DEL02                    34                      4.5   \n",
       "2  0x5d6d    BANGRES19DEL01                    23                      4.4   \n",
       "\n",
       "   Restaurant_latitude  Restaurant_longitude  Delivery_location_latitude  \\\n",
       "1            12.913041             77.683237                   13.043041   \n",
       "2            12.914264             77.678400                   12.924264   \n",
       "\n",
       "   Delivery_location_longitude Order_Date Time_Orderd Time_Order_picked  \\\n",
       "1                    77.813237 2022-03-25    19:45:00          19:50:00   \n",
       "2                    77.688400 2022-03-19    08:30:00          08:45:00   \n",
       "\n",
       "       Weatherconditions Road_traffic_density  Vehicle_condition  \\\n",
       "1      conditions Stormy                  Jam                  2   \n",
       "2  conditions Sandstorms                  Low                  0   \n",
       "\n",
       "  Type_of_order Type_of_vehicle  multiple_deliveries Festival           City  \\\n",
       "1         Snack         scooter                    1       No  Metropolitian   \n",
       "2        Drinks      motorcycle                    1       No          Urban   \n",
       "\n",
       "   Time_taken(min)  \n",
       "1               33  \n",
       "2               26  "
      ]
     },
     "execution_count": 89,
     "metadata": {},
     "output_type": "execute_result"
    }
   ],
   "source": [
    "df.loc[1:2]"
   ]
  },
  {
   "cell_type": "code",
   "execution_count": 4,
   "metadata": {},
   "outputs": [
    {
     "data": {
      "text/plain": [
       "1320"
      ]
     },
     "execution_count": 4,
     "metadata": {},
     "output_type": "execute_result"
    }
   ],
   "source": [
    "len(df['Delivery_person_ID'].unique())"
   ]
  }
 ],
 "metadata": {
  "kernelspec": {
   "display_name": "Python 3.10.6 64-bit",
   "language": "python",
   "name": "python3"
  },
  "language_info": {
   "codemirror_mode": {
    "name": "ipython",
    "version": 3
   },
   "file_extension": ".py",
   "mimetype": "text/x-python",
   "name": "python",
   "nbconvert_exporter": "python",
   "pygments_lexer": "ipython3",
   "version": "3.10.6"
  },
  "orig_nbformat": 4,
  "vscode": {
   "interpreter": {
    "hash": "916dbcbb3f70747c44a77c7bcd40155683ae19c65e1c03b4aa3499c5328201f1"
   }
  }
 },
 "nbformat": 4,
 "nbformat_minor": 2
}
