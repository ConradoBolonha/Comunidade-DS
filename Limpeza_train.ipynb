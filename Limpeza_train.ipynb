{
 "cells": [
  {
   "cell_type": "code",
   "execution_count": 10,
   "metadata": {},
   "outputs": [],
   "source": [
    "import pandas as pd\n",
    "\n",
    "df = pd.read_csv('D:\\Comunidade-DS/train.csv')"
   ]
  },
  {
   "cell_type": "code",
   "execution_count": 11,
   "metadata": {},
   "outputs": [],
   "source": [
    "### LIMPANDO CÉLULAS \"NaN\" ###\n",
    "linhas_selecionadas = (df['Delivery_person_Age'] != 'NaN ') \n",
    "df = df.loc[linhas_selecionadas, :].copy()\n",
    "\n",
    "linhas_selecionadas = (df['Road_traffic_density'] != 'NaN ') \n",
    "df = df.loc[linhas_selecionadas, :].copy()\n",
    "\n",
    "linhas_selecionadas = (df['City'] != 'NaN ') \n",
    "df = df.loc[linhas_selecionadas, :].copy()\n",
    "\n",
    "linhas_selecionadas = (df['Festival'] != 'NaN ') \n",
    "df = df.loc[linhas_selecionadas, :].copy()\n",
    "\n",
    "### CONVERTENDO A COLUNA \"Delivery_person_Age\" PARA NÚMERO INTEIRO (int) ###\n",
    "df['Delivery_person_Age'] = df['Delivery_person_Age'].astype( int )\n",
    "\n",
    "### CONVERTENDO A COLUNA \"Delivery_person_Ratings\" PARA NÚMERO DECIMAL (float) ###\n",
    "df['Delivery_person_Ratings'] = df['Delivery_person_Ratings'].astype( float )\n",
    "\n",
    "### CONVERTENDO A COLUNA \"Order_Date\" PARA FORMATO DE DATA ###\n",
    "df['Order_Date'] = pd.to_datetime( df['Order_Date'], format='%d-%m-%Y' )\n",
    "\n",
    "### CONVERTENDO A COLUNA \"multiple_deliveries\" DE TEXTO PARA NÚMERO INTEIRO (int) ###\n",
    "linhas_selecionadas = (df['multiple_deliveries'] != 'NaN ')\n",
    "df = df.loc[linhas_selecionadas, :].copy()\n",
    "df['multiple_deliveries'] = df['multiple_deliveries'].astype( int )\n",
    "\n",
    "### REMOVENDO ESPAÇOS NAS COLUNAS ###\n",
    "df.loc[:, 'ID'] = df.loc[:, 'ID'].str.strip()\n",
    "df.loc[:, 'Road_traffic_density'] = df.loc[:, 'Road_traffic_density'].str.strip()\n",
    "df.loc[:, 'Type_of_order'] = df.loc[:, 'Type_of_order'].str.strip()\n",
    "df.loc[:, 'Type_of_vehicle'] = df.loc[:, 'Type_of_vehicle'].str.strip()\n",
    "df.loc[:, 'City'] = df.loc[:, 'City'].str.strip()\n",
    "df.loc[:, 'Festival'] = df.loc[:, 'Festival'].str.strip()\n",
    "\n",
    "### LIMPANDO A COLUNA TIME TAKEN ###\n",
    "df['Time_taken(min)'] = df['Time_taken(min)'].apply( lambda x: x.split( '(min) ')[1] )\n",
    "df['Time_taken(min)']  = df['Time_taken(min)'].astype( int )"
   ]
  }
 ],
 "metadata": {
  "kernelspec": {
   "display_name": "Python 3.10.5 64-bit",
   "language": "python",
   "name": "python3"
  },
  "language_info": {
   "codemirror_mode": {
    "name": "ipython",
    "version": 3
   },
   "file_extension": ".py",
   "mimetype": "text/x-python",
   "name": "python",
   "nbconvert_exporter": "python",
   "pygments_lexer": "ipython3",
   "version": "3.10.5 (tags/v3.10.5:f377153, Jun  6 2022, 16:14:13) [MSC v.1929 64 bit (AMD64)]"
  },
  "orig_nbformat": 4,
  "vscode": {
   "interpreter": {
    "hash": "df95319d8ce4e1d89f5365ae10992bc1f65da593082b1d264e8f529830ec2f02"
   }
  }
 },
 "nbformat": 4,
 "nbformat_minor": 2
}
