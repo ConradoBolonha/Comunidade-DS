{
 "cells": [
  {
   "cell_type": "code",
   "execution_count": 2,
   "metadata": {},
   "outputs": [],
   "source": [
    "qtdade = [1, 3, 7, 8, 8]"
   ]
  },
  {
   "cell_type": "code",
   "execution_count": 3,
   "metadata": {},
   "outputs": [
    {
     "name": "stdout",
     "output_type": "stream",
     "text": [
      "O valor 1 somado + 1 = 2\n",
      "O valor 3 somado + 1 = 4\n",
      "O valor 7 somado + 1 = 8\n",
      "O valor 8 somado + 1 = 9\n",
      "O valor 8 somado + 1 = 9\n",
      "FIM\n"
     ]
    }
   ],
   "source": [
    "for cont in qtdade:\n",
    "    soma = cont + 1\n",
    "    print(f'O valor {cont} somado + 1 = {soma}')\n",
    "    \n",
    "    if soma > 10:\n",
    "        print('Tem um valor acima de 10!')\n",
    "\n",
    "print('FIM')"
   ]
  }
 ],
 "metadata": {
  "kernelspec": {
   "display_name": "Python 3",
   "language": "python",
   "name": "python3"
  },
  "language_info": {
   "codemirror_mode": {
    "name": "ipython",
    "version": 3
   },
   "file_extension": ".py",
   "mimetype": "text/x-python",
   "name": "python",
   "nbconvert_exporter": "python",
   "pygments_lexer": "ipython3",
   "version": "3.10.5"
  },
  "orig_nbformat": 4,
  "vscode": {
   "interpreter": {
    "hash": "df95319d8ce4e1d89f5365ae10992bc1f65da593082b1d264e8f529830ec2f02"
   }
  }
 },
 "nbformat": 4,
 "nbformat_minor": 2
}
