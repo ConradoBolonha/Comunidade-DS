{
 "cells": [
  {
   "attachments": {},
   "cell_type": "markdown",
   "id": "24c52fe6",
   "metadata": {
    "ExecuteTime": {
     "end_time": "2022-04-26T21:08:04.103105Z",
     "start_time": "2022-04-26T21:08:04.100494Z"
    },
    "heading_collapsed": true
   },
   "source": [
    "# 1. Escreva um algoritmo para ler um valor numérico (do teclado) e escrever (na tela) o seu antecessor. "
   ]
  },
  {
   "attachments": {},
   "cell_type": "markdown",
   "id": "8e1474ba",
   "metadata": {
    "heading_collapsed": true,
    "hidden": true
   },
   "source": [
    "# Resolução"
   ]
  },
  {
   "cell_type": "code",
   "execution_count": 4,
   "id": "0b4fb5d3",
   "metadata": {
    "hidden": true
   },
   "outputs": [
    {
     "name": "stdout",
     "output_type": "stream",
     "text": [
      "Você digitou o número 8 e seu antecessor é 7\n"
     ]
    }
   ],
   "source": [
    "num = int(input('Digite um número: '))\n",
    "print(f'Você digitou o número {num} e seu antecessor é {num - 1}')"
   ]
  },
  {
   "attachments": {},
   "cell_type": "markdown",
   "id": "0a738f57",
   "metadata": {
    "heading_collapsed": true,
    "hidden": true
   },
   "source": [
    "# Resposta"
   ]
  },
  {
   "cell_type": "code",
   "execution_count": null,
   "id": "655d29fb",
   "metadata": {
    "ExecuteTime": {
     "end_time": "2022-04-28T11:14:24.951417Z",
     "start_time": "2022-04-28T11:14:23.117446Z"
    },
    "hidden": true
   },
   "outputs": [],
   "source": [
    "# Cria a variável valor com o conteúdo \n",
    "# que o usuário digitar.\n",
    "valor = int(input( 'Digite um valor numérico: ' ))\n",
    "\n",
    "# Calcula o antecessor do valor digitado\n",
    "# pelo usuário\n",
    "antecessor = valor -1\n",
    "\n",
    "print(f'O Valor digitado foi {valor} e o seu antecessor é {antecessor}')"
   ]
  },
  {
   "attachments": {},
   "cell_type": "markdown",
   "id": "ef305a5d",
   "metadata": {
    "ExecuteTime": {
     "end_time": "2022-04-26T21:08:04.226157Z",
     "start_time": "2022-04-26T21:08:04.223821Z"
    },
    "heading_collapsed": true
   },
   "source": [
    "# 2. Escreva um algoritmo para ler o salário mensal atual de um funcionário e o percentual de reajuste. Calcular e escrever o valor do novo salário. "
   ]
  },
  {
   "attachments": {},
   "cell_type": "markdown",
   "id": "1aae2472",
   "metadata": {
    "heading_collapsed": true,
    "hidden": true
   },
   "source": [
    "# Resolução"
   ]
  },
  {
   "cell_type": "code",
   "execution_count": 14,
   "id": "4e1d0a4c",
   "metadata": {
    "hidden": true
   },
   "outputs": [
    {
     "name": "stdout",
     "output_type": "stream",
     "text": [
      "O salário de R$ 3000.00 terá um reajuste de 10.00% e será de R$ 3300.00\n"
     ]
    }
   ],
   "source": [
    "sal = float(input('Digite o valor do salário: R$ '))\n",
    "reajus = float(input('Digite o percentual do reajuste: '))\n",
    "vl_reajus = (sal * reajus / 100)\n",
    "\n",
    "print(f'O salário de R$ {sal:.2f} terá um reajuste de {reajus:.2f}% e será de R$ {sal + vl_reajus:.2f}')"
   ]
  },
  {
   "attachments": {},
   "cell_type": "markdown",
   "id": "b8a278f1",
   "metadata": {
    "heading_collapsed": true,
    "hidden": true
   },
   "source": [
    "# Resposta"
   ]
  },
  {
   "cell_type": "code",
   "execution_count": null,
   "id": "67130811",
   "metadata": {
    "ExecuteTime": {
     "end_time": "2022-04-28T11:17:21.977614Z",
     "start_time": "2022-04-28T11:17:16.855486Z"
    },
    "hidden": true
   },
   "outputs": [],
   "source": [
    "# Recebe do usuário os valores do salario e do percentual\n",
    "# de ajuste\n",
    "salario = float(input('Informe o salario atual: '))\n",
    "reajuste = float(input('Informe o percentual de reajuste: '))\n",
    "\n",
    "# Calcula o novo salario\n",
    "novo_salario = salario + (salario * reajuste)\n",
    "\n",
    "# Imprime na tela o novo salario\n",
    "print(f'O novo salario é R${novo_salario}')"
   ]
  },
  {
   "attachments": {},
   "cell_type": "markdown",
   "id": "0bb2d08a",
   "metadata": {
    "ExecuteTime": {
     "end_time": "2022-04-26T21:08:04.716607Z",
     "start_time": "2022-04-26T21:08:04.714347Z"
    },
    "heading_collapsed": true
   },
   "source": [
    "# 3. Escreva um algoritmo para ler o número total de eleitores de um município, o número de votos brancos, nulos e válidos. Calcular e escrever o percentual que cada um representa em relação ao total de eleitores. "
   ]
  },
  {
   "attachments": {},
   "cell_type": "markdown",
   "id": "873b3baf",
   "metadata": {
    "heading_collapsed": true,
    "hidden": true
   },
   "source": [
    "# Resolução"
   ]
  },
  {
   "cell_type": "code",
   "execution_count": 50,
   "id": "1b00acf2",
   "metadata": {
    "hidden": true
   },
   "outputs": [
    {
     "name": "stdout",
     "output_type": "stream",
     "text": [
      "Total de votos: 2541\n",
      "Total de votos válidos: 2139\n",
      "Percentual de votos brancos (sobre o total): 9.72%\n",
      "Percentual de votos nulos (sobre o total): 6.10%\n",
      "Percentual de votos válidos: 84.18%\n"
     ]
    }
   ],
   "source": [
    "qtade_votos = int(input('Informe a quantidade de votos: '))\n",
    "vot_brancos = int(input('Informe a quantidade de votos brancos: '))\n",
    "vot_nulos = int(input('Informe a quantidade de votos nulos: '))\n",
    "\n",
    "vot_validos = ((qtade_votos - (vot_brancos + vot_nulos)))\n",
    "\n",
    "if vot_brancos + vot_nulos > qtade_votos:\n",
    "    print('Quantidade de votos brancos e nulos é maior que o total de votos!')\n",
    "    \n",
    "else:\n",
    "    print(f'Total de votos: {qtade_votos}')\n",
    "    print(f'Total de votos válidos: {vot_validos}')\n",
    "    print(f'Percentual de votos brancos (sobre o total): {(100 * vot_brancos) / qtade_votos:.2f}%')\n",
    "    print(f'Percentual de votos nulos (sobre o total): {(100 * vot_nulos) / qtade_votos:.2f}%')\n",
    "    print(f'Percentual de votos válidos: {100 * vot_validos / qtade_votos:.2f}%')"
   ]
  },
  {
   "attachments": {},
   "cell_type": "markdown",
   "id": "ae456282",
   "metadata": {
    "heading_collapsed": true,
    "hidden": true
   },
   "source": [
    "# Resposta"
   ]
  },
  {
   "cell_type": "code",
   "execution_count": null,
   "id": "664833e5",
   "metadata": {
    "ExecuteTime": {
     "end_time": "2022-04-28T11:26:03.268016Z",
     "start_time": "2022-04-28T11:25:54.329794Z"
    },
    "hidden": true
   },
   "outputs": [],
   "source": [
    "# Recebe do usuário as informações de quantidade de eleitores\n",
    "# votos brancos, votos nulos e votos válidos\n",
    "eleitores = int(input('Informe a quantidade de eleitores: '))\n",
    "votos_brancos = int(input('Informe a quantidade de votoso brancos: '))\n",
    "votos_nulos = int(input('Informe a quantidade de votos nulos: '))\n",
    "votos_validos = int(input('Informe a quantidade de votos validos: '))\n",
    "\n",
    "# Calcula o percentual de cada tipo de voto\n",
    "percentual_brancos = (100 * votos_brancos) / eleitores\n",
    "percentual_nulos = (100 * votos_nulos) / eleitores\n",
    "percentual_validos = (100 * votos_validos) / eleitores\n",
    "\n",
    "# Imprime na tela os percentuais calculados\n",
    "print() # Pula uma linha\n",
    "print(f'Houveram {eleitores} nessa votação')\n",
    "print(f'{percentual_brancos}% votaram em branco')\n",
    "print(f'{percentual_nulos}% votaram nulo')\n",
    "print(f'{percentual_validos}% votaram de forma válida')"
   ]
  },
  {
   "attachments": {},
   "cell_type": "markdown",
   "id": "a22a16c4",
   "metadata": {
    "ExecuteTime": {
     "end_time": "2022-04-26T21:08:05.057594Z",
     "start_time": "2022-04-26T21:08:05.055103Z"
    },
    "heading_collapsed": true
   },
   "source": [
    "# 4. O custo de um carro novo ao consumidor é a soma do custo de fábrica com a porcentagem do distribuidor e dos impostos (aplicados ao custo de fábrica). Supondo que o percentual do distribuidor seja de 28% e os impostos de 45%, escrever um algoritmo para ler o custo de fábrica de um carro e o custo final ao consumidor."
   ]
  },
  {
   "attachments": {},
   "cell_type": "markdown",
   "id": "21612fce",
   "metadata": {
    "heading_collapsed": true,
    "hidden": true
   },
   "source": [
    "# Resolução"
   ]
  },
  {
   "cell_type": "code",
   "execution_count": null,
   "id": "f0c0a86e",
   "metadata": {
    "hidden": true
   },
   "outputs": [],
   "source": [
    "vl_veic_fabrica = float(input('Digite o valor de fábrica do veículo: R$ '))\n",
    "perc_distr = 0.28\n",
    "impostos = 0.45\n",
    "\n",
    "vl_fabrica = vl_veic_fabrica * impostos + vl_veic_fabrica\n",
    "vl_consum = (perc_distr + impostos) * vl_veic_fabrica + vl_veic_fabrica\n",
    "\n",
    "print(f'O valor final para a fábrica é de R$ {vl_fabrica:.2f}')\n",
    "print(f'O valor final para o consumidor é de R$ {vl_consum:.2f}')\n"
   ]
  },
  {
   "attachments": {},
   "cell_type": "markdown",
   "id": "ca9e73b7",
   "metadata": {
    "heading_collapsed": true,
    "hidden": true
   },
   "source": [
    "# Resposta"
   ]
  },
  {
   "cell_type": "code",
   "execution_count": null,
   "id": "b0052292",
   "metadata": {
    "ExecuteTime": {
     "end_time": "2022-04-28T11:35:14.156760Z",
     "start_time": "2022-04-28T11:35:12.317280Z"
    },
    "hidden": true
   },
   "outputs": [],
   "source": [
    "# Define os percentuais dos impostos\n",
    "percentual_distribuidor = 0.28\n",
    "impostos = 0.45\n",
    "\n",
    "# Recebe do usuário o valor do custo de fabrica\n",
    "custo_fabrica = float(input('Informe o custo da fábrica: '))\n",
    "\n",
    "# Calcula o valor final do carro\n",
    "custo_carro = custo_fabrica + (custo_fabrica * percentual_distribuidor) + (custo_fabrica * impostos)\n",
    "\n",
    "# Exibe o valor calculado para o usuario\n",
    "print(f'O custo de um carro novo se o custo de fabrica for R${custo_fabrica} é de R${custo_carro}')"
   ]
  },
  {
   "attachments": {},
   "cell_type": "markdown",
   "id": "fccc2a09",
   "metadata": {
    "ExecuteTime": {
     "end_time": "2022-04-26T21:08:37.765132Z",
     "start_time": "2022-04-26T21:08:37.762764Z"
    },
    "heading_collapsed": true
   },
   "source": [
    "# 5. Faça um algoritmo que leia três notas de um aluno, calcule e escreva a média final deste aluno. Considerar que a média é ponderada e que o peso das notas é 2, 3 e 5. Fórmula para o cálculo da média final é:"
   ]
  },
  {
   "attachments": {},
   "cell_type": "markdown",
   "id": "79430168",
   "metadata": {
    "heading_collapsed": true,
    "hidden": true
   },
   "source": [
    "# Resolução"
   ]
  },
  {
   "cell_type": "code",
   "execution_count": null,
   "id": "00d3b924",
   "metadata": {
    "hidden": true
   },
   "outputs": [],
   "source": [
    "n1 = float(input('Digite a primeira nota: '))\n",
    "n2 = float(input(f'Digite a segunda nota: '))\n",
    "n3 = float(input(f'Digite a terceira nota: '))\n",
    "\n",
    "media = (n1 * 2 + n2 * 3 + n3 * 5) / 10\n",
    "\n",
    "if media >= 7:\n",
    "    print(f'Parabéns, sua média foi {media:.1f} e passou de ano!')\n",
    "else:\n",
    "    print(f'Sua média é {media:.1f}. NÃO passou. Estude mais!')\n"
   ]
  },
  {
   "attachments": {},
   "cell_type": "markdown",
   "id": "62f8e0ff",
   "metadata": {
    "heading_collapsed": true,
    "hidden": true
   },
   "source": [
    "# Resposta"
   ]
  },
  {
   "cell_type": "code",
   "execution_count": null,
   "id": "022b079d",
   "metadata": {
    "ExecuteTime": {
     "end_time": "2022-04-28T11:38:09.412913Z",
     "start_time": "2022-04-28T11:38:04.647404Z"
    },
    "hidden": true
   },
   "outputs": [],
   "source": [
    "# Recebe do usuário as notas do aluno\n",
    "n1 = float(input('Informa nota N1 do aluno: '))\n",
    "n2 = float(input('Informa nota N2 do aluno: '))\n",
    "n3 = float(input('Informa nota N3 do aluno: '))\n",
    "\n",
    "# Calcula a media final\n",
    "media_final = (n1 * 2 + n2 * 3 + n3 * 5) / 10\n",
    "\n",
    "# Exibe a media final\n",
    "print(f'Media final do aluno é {media_final}')"
   ]
  },
  {
   "attachments": {},
   "cell_type": "markdown",
   "id": "d121b132",
   "metadata": {
    "ExecuteTime": {
     "end_time": "2022-04-26T21:08:55.848177Z",
     "start_time": "2022-04-26T21:08:55.845878Z"
    },
    "heading_collapsed": true
   },
   "source": [
    "# 6. Ler um valor numerico e escrever a mensagem \"É MAIOR QUE 10!\" se o valor lido for maior que 10, caso contrário escrever \"NÃO É MAIOR QUE 10!\""
   ]
  },
  {
   "attachments": {},
   "cell_type": "markdown",
   "id": "f5ace28e",
   "metadata": {
    "heading_collapsed": true,
    "hidden": true
   },
   "source": [
    "# Resolução"
   ]
  },
  {
   "cell_type": "code",
   "execution_count": null,
   "id": "cf64137f",
   "metadata": {
    "hidden": true
   },
   "outputs": [],
   "source": [
    "num = int(input('Digite um valor qualquer: '))\n",
    "\n",
    "if num == 10:\n",
    "    print(f'{num} é IGUAL a 10!')\n",
    "elif num > 10:\n",
    "    print(f'{num} é MAIOR que 10!')\n",
    "else:\n",
    "    print(f'{num} é MENOR que 10!')\n"
   ]
  },
  {
   "attachments": {},
   "cell_type": "markdown",
   "id": "7b10cf66",
   "metadata": {
    "heading_collapsed": true,
    "hidden": true
   },
   "source": [
    "# Resposta"
   ]
  },
  {
   "cell_type": "code",
   "execution_count": null,
   "id": "78538bcc",
   "metadata": {
    "ExecuteTime": {
     "end_time": "2022-04-28T11:41:58.589771Z",
     "start_time": "2022-04-28T11:41:57.175623Z"
    },
    "hidden": true
   },
   "outputs": [],
   "source": [
    "# Recebe o valor do usuároio\n",
    "valor = int(input('Informe um valor numérico: '))\n",
    "\n",
    "# Verifica se o valor digitado é maior que 10\n",
    "if valor > 10:\n",
    "    # Imprime a mensagem \"É MAIOR QUE 10!\" se for maior\n",
    "    print(f'É MAIOR QUE 10!')\n",
    "else:\n",
    "    # Imprime a mensagem \"NÃO É MAIOR QUE 10!\" se for maior\n",
    "    print(f'NÃO É MAIOR QUE 10!')"
   ]
  },
  {
   "attachments": {},
   "cell_type": "markdown",
   "id": "a6fa08ac",
   "metadata": {
    "ExecuteTime": {
     "end_time": "2022-04-26T21:09:06.152970Z",
     "start_time": "2022-04-26T21:09:06.150655Z"
    },
    "heading_collapsed": true
   },
   "source": [
    "# 7. Ler um valor numérico e escrever se é positivo ou negativo (considere o valor zero como positivo)"
   ]
  },
  {
   "attachments": {},
   "cell_type": "markdown",
   "id": "7155a419",
   "metadata": {
    "heading_collapsed": true,
    "hidden": true
   },
   "source": [
    "# Resolução"
   ]
  },
  {
   "cell_type": "code",
   "execution_count": 5,
   "id": "b6bba800",
   "metadata": {
    "hidden": true
   },
   "outputs": [
    {
     "name": "stdout",
     "output_type": "stream",
     "text": [
      "NEGATIVO\n"
     ]
    }
   ],
   "source": [
    "num = int(input('Digite um número negativo ou positivo: '))\n",
    "\n",
    "if num >= 0:\n",
    "    print('POSITIVO')\n",
    "else:\n",
    "    print('NEGATIVO')\n"
   ]
  },
  {
   "attachments": {},
   "cell_type": "markdown",
   "id": "129edc14",
   "metadata": {
    "heading_collapsed": true,
    "hidden": true
   },
   "source": [
    "# Resposta"
   ]
  },
  {
   "cell_type": "code",
   "execution_count": null,
   "id": "6ca20730",
   "metadata": {
    "ExecuteTime": {
     "end_time": "2022-04-28T11:45:29.399625Z",
     "start_time": "2022-04-28T11:45:26.250917Z"
    },
    "hidden": true
   },
   "outputs": [],
   "source": [
    "# Recebe um valor numerico do usuario\n",
    "valor = float(input('Informe um valor numerico: '))\n",
    "\n",
    "# Verifica se o valor é Positivo, maior ou igual a zero\n",
    "if valor >= 0:\n",
    "    # Imprime a mensagem dizendo que o valor é positivo \n",
    "    # se ele for maior ou igual a zero\n",
    "    print(f'O valor {valor} é positivo')\n",
    "else:\n",
    "    # Imprime a mensagem dizendo que o valor é negativo \n",
    "    # se ele for menor que zero\n",
    "    print(f'O valor {valor} é negativo')"
   ]
  },
  {
   "attachments": {},
   "cell_type": "markdown",
   "id": "ceee3246",
   "metadata": {
    "ExecuteTime": {
     "end_time": "2022-04-26T21:09:22.532224Z",
     "start_time": "2022-04-26T21:09:22.529824Z"
    },
    "heading_collapsed": true
   },
   "source": [
    "# 8. As maçãs custam R$ 1,30 cada se forem compradas menos de uma dúzia, e R$ 1,00 se forem compradas pelo menos 12. Escreva um programa que leia o número de maçãs compradas, calcule e escreva o custo total da compra. "
   ]
  },
  {
   "attachments": {},
   "cell_type": "markdown",
   "id": "7e692f22",
   "metadata": {
    "heading_collapsed": true,
    "hidden": true
   },
   "source": [
    "# Resolução"
   ]
  },
  {
   "cell_type": "code",
   "execution_count": null,
   "id": "ea2aacc7",
   "metadata": {
    "hidden": true
   },
   "outputs": [],
   "source": [
    "qtdade_maca = int(input('Digite a qtdade de maçã: '))\n",
    "\n",
    "if qtdade_maca >= 12:\n",
    "    print(f'O valor de cada maçã é R$ 1.00 (12 unidades ou mais). Você pagará R$ {qtdade_maca * 1.00:.2f} por {qtdade_maca} maçãs')\n",
    "else:\n",
    "    print(f'O valor de cada maçã é R$ 1.30 (11 unidades ou menos). Você pagará R$ {qtdade_maca * 1.30:.2f} por {qtdade_maca} maçãs')\n"
   ]
  },
  {
   "cell_type": "code",
   "execution_count": null,
   "id": "db38138d",
   "metadata": {},
   "outputs": [],
   "source": [
    "qtdade_maca = int(input('Digite a qtdade de maçã: '))\n",
    "if qtdade_maca >= 12:\n",
    "    total = qtdade_maca * 1.00\n",
    "else:\n",
    "    total = qtdade_maca * 1.30\n",
    "print(f'Você compreou {qtdade_maca} maçãs e o valor ficou em R$ {total:.2f}')\n"
   ]
  },
  {
   "attachments": {},
   "cell_type": "markdown",
   "id": "e2c3b953",
   "metadata": {
    "heading_collapsed": true,
    "hidden": true
   },
   "source": [
    "# Resposta"
   ]
  },
  {
   "cell_type": "code",
   "execution_count": null,
   "id": "f5a90818",
   "metadata": {
    "ExecuteTime": {
     "end_time": "2022-04-28T11:53:01.515270Z",
     "start_time": "2022-04-28T11:53:00.896961Z"
    },
    "hidden": true
   },
   "outputs": [],
   "source": [
    "qtd_macas = int(input('Informe a quantidade de maças compradas: '))\n",
    "\n",
    "if qtd_macas < 12:\n",
    "    total = qtd_macas * 1.30\n",
    "else:\n",
    "    total = qtd_macas * 1.00\n",
    "    \n",
    "print(f'O valor total da compra de {qtd_macas} maçãs foi de R$ {total}')"
   ]
  },
  {
   "attachments": {},
   "cell_type": "markdown",
   "id": "2b513ded",
   "metadata": {
    "ExecuteTime": {
     "end_time": "2022-04-26T21:09:40.985684Z",
     "start_time": "2022-04-26T21:09:40.983285Z"
    },
    "heading_collapsed": true
   },
   "source": [
    "# 9. Ler as notas da primeira e segunda avaliações de um aluno. Calcular a média aritmética simples e escrever uma mensagem que diga se o aluno foi ou não aprovado (considerar que nota igual ou maior que 6 o aluno é aprovado). Escrever também a média calculada. "
   ]
  },
  {
   "cell_type": "markdown",
   "id": "ba03e3ef",
   "metadata": {
    "hidden": true
   },
   "source": [
    "$$ media = \\frac{\\left ( n1 + n2 \\right )}{2} $$"
   ]
  },
  {
   "attachments": {},
   "cell_type": "markdown",
   "id": "f447d12c",
   "metadata": {
    "heading_collapsed": true,
    "hidden": true
   },
   "source": [
    "# Resolução"
   ]
  },
  {
   "cell_type": "code",
   "execution_count": 4,
   "id": "53c15898",
   "metadata": {
    "hidden": true
   },
   "outputs": [
    {
     "name": "stdout",
     "output_type": "stream",
     "text": [
      "A média foi 10.0 e você foi APROVADO\n"
     ]
    }
   ],
   "source": [
    "n1 = int(input('Digite a primeira nota: '))\n",
    "n2 = int(input('Digite a segunda nota: '))\n",
    "media = (n1 + n2) / 2\n",
    "if media >= 6:\n",
    "    print(f'A média foi {media} e você foi APROVADO')\n",
    "else:\n",
    "    print(f'A media foi {media} e você foi REPROVADO')\n"
   ]
  },
  {
   "attachments": {},
   "cell_type": "markdown",
   "id": "a878cadb",
   "metadata": {
    "heading_collapsed": true,
    "hidden": true
   },
   "source": [
    "# Resposta"
   ]
  },
  {
   "cell_type": "code",
   "execution_count": null,
   "id": "be521b15",
   "metadata": {
    "ExecuteTime": {
     "end_time": "2022-04-28T12:04:36.773432Z",
     "start_time": "2022-04-28T12:04:33.490578Z"
    },
    "hidden": true
   },
   "outputs": [],
   "source": [
    "# Recebe as notas das avaliações do aluno\n",
    "n1 = float(input('Informa a nota da primeira avaliação: '))\n",
    "n2 = float(input('Informa a nota da segunda avaliação: '))\n",
    "\n",
    "# Calcula a media do aluno\n",
    "media = (n1 + n2) / 2\n",
    "\n",
    "# Verifica se a média maior ou igual a 6\n",
    "if media >= 6:\n",
    "    # Se a media for maior ou igual a 6\n",
    "    # Imprimimos na tela a mensagem \n",
    "    # \"Aluno aprovado com media {media}\"\n",
    "    print(f'Aluno aprovado com media {media}')\n",
    "else:\n",
    "    # Se a media for menor que 6\n",
    "    # Imprimimos na tela a mensagem \n",
    "    # \"Aluno não aprovado. Media {media}\"\n",
    "    print(f'Aluno não aprovado. Media {media}')"
   ]
  },
  {
   "attachments": {},
   "cell_type": "markdown",
   "id": "cc8adea7",
   "metadata": {
    "ExecuteTime": {
     "end_time": "2022-04-26T21:09:49.960056Z",
     "start_time": "2022-04-26T21:09:49.957909Z"
    },
    "heading_collapsed": true
   },
   "source": [
    "# 10. Ler dois valores (considere que não serão lidos valores iguais) e escrever o maior deles. "
   ]
  },
  {
   "attachments": {},
   "cell_type": "markdown",
   "id": "9130a3e5",
   "metadata": {
    "heading_collapsed": true,
    "hidden": true
   },
   "source": [
    "# Resolução"
   ]
  },
  {
   "cell_type": "code",
   "execution_count": 13,
   "id": "35d7e8d3",
   "metadata": {
    "hidden": true
   },
   "outputs": [
    {
     "name": "stdout",
     "output_type": "stream",
     "text": [
      "851 é MAIOR que 9\n"
     ]
    }
   ],
   "source": [
    "n1 = int(input('Digite um valor: '))\n",
    "n2 = int(input('Digite o segundo valor: '))\n",
    "\n",
    "if n1 == n2:\n",
    "    print('Números iguais não são permitidos.')\n",
    "elif n1 > n2:\n",
    "    print(f'{n1} é MAIOR que {n2}')\n",
    "else:\n",
    "    print(f'{n2} é MAIOR que {n1}')\n"
   ]
  },
  {
   "attachments": {},
   "cell_type": "markdown",
   "id": "2b7f1275",
   "metadata": {
    "heading_collapsed": true,
    "hidden": true
   },
   "source": [
    "# Resposta"
   ]
  },
  {
   "cell_type": "code",
   "execution_count": null,
   "id": "3c24c4c5",
   "metadata": {
    "ExecuteTime": {
     "end_time": "2022-04-28T12:07:51.565488Z",
     "start_time": "2022-04-28T12:07:48.884560Z"
    },
    "hidden": true
   },
   "outputs": [],
   "source": [
    "# Recebe do usuário os valores digitados\n",
    "valor_1 = float(input('Informe o primeiro valor: '))\n",
    "valor_2 = float(input('Informe o segundo valor: '))\n",
    "\n",
    "# Verifica se o primeiro valor é maior que o segundo\n",
    "if valor_1 > valor_2:\n",
    "    # Se o primeiro valor for maior que o segundo\n",
    "    # imprime na tela a mensagem \"Primeiro valor maior\"\n",
    "    print(f'Primeiro valor maior')\n",
    "else:\n",
    "    # Se o segundo valor for maior que o primeiro\n",
    "    # imprime na tela a mensagem \"Segundo valor maior\"\n",
    "    print(f'Segundo valor maior')"
   ]
  },
  {
   "attachments": {},
   "cell_type": "markdown",
   "id": "9c25362b",
   "metadata": {
    "ExecuteTime": {
     "end_time": "2022-04-26T21:10:18.663978Z",
     "start_time": "2022-04-26T21:10:18.661551Z"
    },
    "heading_collapsed": true
   },
   "source": [
    "## 11. Escreva uma aplicação que leia o salário fixo e o valor das vendas efetuadas pelo vendedor de uma empresa. Calcule qual será o valor do salário do vendedor com base nas seguintes regras:\n",
    "* Caso o valor total vendido seja menor ou igual a R$ 1.500,00, o vendedor terá 3% de comissão\n",
    "* Caso o valor total vendido seja maior que R$ 1.500,00, o vendedor terá 5% de comissão\n",
    "* As porcentagens de comissão não são acumulativas\n",
    "* O Valor da comissão deve ser calculado com base no valor total de vendas feita pelo vendedor\n",
    "* O Valor do salário final deve ser a soma entre o salário base e o valor da comissão"
   ]
  },
  {
   "attachments": {},
   "cell_type": "markdown",
   "id": "baea5ff2",
   "metadata": {
    "heading_collapsed": true,
    "hidden": true
   },
   "source": [
    "# Resolução"
   ]
  },
  {
   "cell_type": "code",
   "execution_count": 6,
   "id": "a991060d",
   "metadata": {
    "hidden": true
   },
   "outputs": [
    {
     "name": "stdout",
     "output_type": "stream",
     "text": [
      "Acréscimo de R$ 77.50 ao salário de R$ 1000.00, totalizando R$ 1077.50\n"
     ]
    }
   ],
   "source": [
    "sal = float(input('Digite o valor do salário: '))\n",
    "vl_vendas = float(input('Digite o valor das vendas: '))\n",
    "\n",
    "if vl_vendas <= 1500.00:\n",
    "    comiss_sal = vl_vendas * 0.03\n",
    "else:\n",
    "    comiss_sal = vl_vendas * 0.05\n",
    "    \n",
    "print(f'Acréscimo de R$ {comiss_sal:.2f} ao salário de R$ {sal:.2f}, totalizando R$ {comiss_sal + sal:.2f}')"
   ]
  },
  {
   "attachments": {},
   "cell_type": "markdown",
   "id": "46839c68",
   "metadata": {
    "heading_collapsed": true,
    "hidden": true
   },
   "source": [
    "# Resposta"
   ]
  },
  {
   "cell_type": "code",
   "execution_count": null,
   "id": "f2f6f057",
   "metadata": {
    "ExecuteTime": {
     "end_time": "2022-04-28T13:53:32.665006Z",
     "start_time": "2022-04-28T13:53:23.686216Z"
    },
    "hidden": true
   },
   "outputs": [],
   "source": [
    "# Recebe do usuário o valor das vendas e do salaŕio fixo\n",
    "salario_fixo = float(input('Qual o valor do salário fixo: '))\n",
    "vendas = float(input('Qual o valor ddas vendas efetuadas: '))\n",
    "\n",
    "# Verifica se as vendas efetuadas foram maiores que \n",
    "# 1500.\n",
    "if vendas > 1500:\n",
    "    # Se as vendas forem maiores que 1500, a comissão\n",
    "    # será de 5%\n",
    "    salario_final = salario_fixo + (vendas * 0.05)\n",
    "else:\n",
    "    # Se as vendas forem menores ou iguais a 1500, a\n",
    "    # comissão será de 3%\n",
    "    salario_final = salario_fixo + (vendas * 0.03)\n",
    "    \n",
    "# Imprime o valor do salario final\n",
    "print(f'O Salario final do vendedor é de R$ {salario_final}')"
   ]
  },
  {
   "attachments": {},
   "cell_type": "markdown",
   "id": "20ff3125",
   "metadata": {
    "ExecuteTime": {
     "end_time": "2022-04-26T21:11:59.436866Z",
     "start_time": "2022-04-26T21:11:59.434692Z"
    },
    "heading_collapsed": true
   },
   "source": [
    "# 12. Escreva um algoritmo para imprimir os números de 1 (inclusive) a 10 (inclusive) em ordem crescente"
   ]
  },
  {
   "attachments": {},
   "cell_type": "markdown",
   "id": "68347c5a",
   "metadata": {
    "heading_collapsed": true,
    "hidden": true
   },
   "source": [
    "# Resolução"
   ]
  },
  {
   "cell_type": "code",
   "execution_count": 21,
   "id": "935cf6e7",
   "metadata": {
    "hidden": true
   },
   "outputs": [
    {
     "name": "stdout",
     "output_type": "stream",
     "text": [
      "1 2 3 4 5 6 7 8 9 10 "
     ]
    }
   ],
   "source": [
    "for num in range (1, 11):\n",
    "    print(num, end=' ')\n"
   ]
  },
  {
   "attachments": {},
   "cell_type": "markdown",
   "id": "fa16de6c",
   "metadata": {
    "heading_collapsed": true,
    "hidden": true
   },
   "source": [
    "# Resposta"
   ]
  },
  {
   "cell_type": "code",
   "execution_count": null,
   "id": "3cd88715",
   "metadata": {
    "ExecuteTime": {
     "end_time": "2022-04-28T14:08:46.090205Z",
     "start_time": "2022-04-28T14:08:46.085867Z"
    },
    "hidden": true
   },
   "outputs": [],
   "source": [
    "# Cria a estrutura de repetição que irá\n",
    "# iterar sobre a sequencia de valores \n",
    "# iniciando em 1 e termiando em 10\n",
    "for valor in range(1, 11):\n",
    "    print(valor)"
   ]
  },
  {
   "attachments": {},
   "cell_type": "markdown",
   "id": "ad4102d9",
   "metadata": {
    "ExecuteTime": {
     "end_time": "2022-04-26T22:13:16.851017Z",
     "start_time": "2022-04-26T22:13:16.848590Z"
    },
    "heading_collapsed": true
   },
   "source": [
    "# 13. Ler um valor N e imprimir todos os valores inteiros entre 1 (inclusive) e N (inclusive). Considere que o N será sempre maior que ZERO. "
   ]
  },
  {
   "attachments": {},
   "cell_type": "markdown",
   "id": "a0773dad",
   "metadata": {
    "heading_collapsed": true,
    "hidden": true
   },
   "source": [
    "# Resolução"
   ]
  },
  {
   "cell_type": "code",
   "execution_count": 7,
   "id": "53942252",
   "metadata": {
    "hidden": true
   },
   "outputs": [
    {
     "name": "stdout",
     "output_type": "stream",
     "text": [
      "1 2 3 4 5 6 7 8 9 10 11 12 "
     ]
    }
   ],
   "source": [
    "n = int(input('Informe um valor: '))\n",
    "for valor in range(1, n + 1):\n",
    "    print(valor, end= ' ')"
   ]
  },
  {
   "attachments": {},
   "cell_type": "markdown",
   "id": "dd4d3ca0",
   "metadata": {
    "heading_collapsed": true,
    "hidden": true
   },
   "source": [
    "# Resposta"
   ]
  },
  {
   "cell_type": "code",
   "execution_count": null,
   "id": "306c7a23",
   "metadata": {
    "ExecuteTime": {
     "end_time": "2022-04-28T14:09:27.656175Z",
     "start_time": "2022-04-28T14:09:25.889119Z"
    },
    "hidden": true
   },
   "outputs": [],
   "source": [
    "# Recebe o valor do usuario\n",
    "n = int(input('Informe um valor: '))\n",
    "\n",
    "# Cria a estrutura de repetição que irá\n",
    "# iterar sobre a sequencia de valores \n",
    "# iniciando em 1 e termiando no valor \n",
    "# digitado pelo usuario\n",
    "for valor in range(1, n+1):\n",
    "    print(valor)"
   ]
  },
  {
   "attachments": {},
   "cell_type": "markdown",
   "id": "59f4ece0",
   "metadata": {
    "ExecuteTime": {
     "end_time": "2022-04-26T22:13:19.012502Z",
     "start_time": "2022-04-26T22:13:19.010129Z"
    },
    "heading_collapsed": true
   },
   "source": [
    "# 14. Ler um valor inteiro (considera que será digitado somente valores entre 1 e 10) e escrever a tabuada de 1 a 10 do valor lido. "
   ]
  },
  {
   "attachments": {},
   "cell_type": "markdown",
   "id": "9014c627",
   "metadata": {
    "heading_collapsed": true,
    "hidden": true
   },
   "source": [
    "# Resolução"
   ]
  },
  {
   "cell_type": "code",
   "execution_count": null,
   "id": "070ecdd1",
   "metadata": {
    "hidden": true
   },
   "outputs": [],
   "source": [
    "num = int(input('Digite um número: '))\n",
    "for cont in range(1, 11):\n",
    "    print(f'{num} X {cont} = {num * cont}')\n"
   ]
  },
  {
   "attachments": {},
   "cell_type": "markdown",
   "id": "4a447d93",
   "metadata": {
    "heading_collapsed": true,
    "hidden": true
   },
   "source": [
    "# Resposta"
   ]
  },
  {
   "cell_type": "code",
   "execution_count": null,
   "id": "0e98831d",
   "metadata": {
    "ExecuteTime": {
     "end_time": "2022-04-28T14:12:52.452076Z",
     "start_time": "2022-04-28T14:12:50.766174Z"
    },
    "hidden": true
   },
   "outputs": [],
   "source": [
    "# Recebe o valor do usuário\n",
    "n = int(input('Informe o valor: '))\n",
    "\n",
    "# Cria a estrutura de repetição que irá\n",
    "# iterar sobre a sequencia de valores \n",
    "# iniciando em 1 e termiando em 10\n",
    "for valor in range(1, 11):\n",
    "    # Irá imprimir o valor que está na\n",
    "    # sequencia, o valor digitado pelo usuario\n",
    "    # e a multiplicação entre esses valores\n",
    "    print(f'{valor} x {n} = {valor*n}')"
   ]
  },
  {
   "attachments": {},
   "cell_type": "markdown",
   "id": "477f7630",
   "metadata": {
    "ExecuteTime": {
     "end_time": "2022-04-26T21:11:12.586065Z",
     "start_time": "2022-04-26T21:11:12.583912Z"
    }
   },
   "source": [
    "# 15. Escreva um algoritmo para ler 2 valores e se o segundo valor informado for ZERO, deve ser lido um novo valor, ou seja, o segundo valor não pode ser aceito o valor zero e imprimir o resultado da divisão do primeiro valor lido pelo segundo valor lido. (utilizar a estrutura \"for\" ). Efetue 10 tentativas de leitura. Se ao final das 10 tentativas o valor ainda for zero, exibir a mensagem \"Impossível divisão por ZERO\"\n",
    "\n",
    "# tenho que ler 2 valores\n",
    "# se o segundo valor for zero, \n",
    "# Temos que ler um novo valor\n",
    "# O segundo valor não pode ser zero\n",
    "# Se o segundo valor for diferente de zero, imprimir a divisão do primeiro pelo segundo\n",
    "# Tentar 10 vezes a leitura do segundo valor\n",
    "# Se no final das 10 tentativas, o valor for zero, imprimir \"Impossivel divisão por ZERO\""
   ]
  },
  {
   "attachments": {},
   "cell_type": "markdown",
   "id": "40dec85d",
   "metadata": {
    "heading_collapsed": true
   },
   "source": [
    "# Resolução"
   ]
  },
  {
   "cell_type": "code",
   "execution_count": null,
   "id": "0ed912f3",
   "metadata": {
    "hidden": true
   },
   "outputs": [],
   "source": [
    "n1 = int(input('Digite um número: '))\n",
    "\n",
    "for tent in range(1, 11):\n",
    "    n2 = int(input('Digite o segundo número: '))\n",
    "    \n",
    "    if n2 == 0:\n",
    "        print(f'Tentativa: {tent}')\n",
    "        \n",
    "        if tent == 10:\n",
    "            print('Impossível divisão por ZERO')\n",
    "            break\n",
    "    else:\n",
    "        div = n1 / n2\n",
    "        print(div)\n",
    "        \n",
    "        break\n"
   ]
  },
  {
   "cell_type": "code",
   "execution_count": null,
   "id": "87c058b8",
   "metadata": {
    "ExecuteTime": {
     "end_time": "2022-05-05T22:52:11.030674Z",
     "start_time": "2022-05-05T22:51:54.470678Z"
    },
    "hidden": true
   },
   "outputs": [],
   "source": [
    "# recebe o primeiro valor com a conversão de tipo\n",
    "valor_1 = float(input(f'Digite o primeiro valor: '))\n",
    "\n",
    "for tentativa in range(1, 15):\n",
    "    valor_2 = float(input(f'Digite o segundo valor valor: '))\n",
    "    \n",
    "    if valor_2 == 0:\n",
    "        print(f'Tentativa = {tentativa}')\n",
    "        print()\n",
    "        \n",
    "        if tentativa == 10:\n",
    "            print('Impossível divião por Zero')            \n",
    "            break\n",
    "    \n",
    "    else:\n",
    "        print(f'Valor {valor_1} dividido pelo valor {valor_2} é igual a: ')\n",
    "        print(valor_1 / valor_2)\n",
    "        \n",
    "        break"
   ]
  },
  {
   "cell_type": "markdown",
   "id": "190564cc",
   "metadata": {},
   "source": []
  },
  {
   "cell_type": "code",
   "execution_count": null,
   "id": "0b6aa1d6",
   "metadata": {
    "hidden": true
   },
   "outputs": [],
   "source": [
    "idade = 18\n",
    "\n",
    "if idade > 18:\n",
    "    print(f'Você tem mais de 18 anos')\n",
    "else:\n",
    "    print(f'voce tem menos de 18 anos')"
   ]
  },
  {
   "cell_type": "code",
   "execution_count": null,
   "id": "f778a707",
   "metadata": {
    "ExecuteTime": {
     "end_time": "2022-05-05T23:11:35.254565Z",
     "start_time": "2022-05-05T23:11:35.246598Z"
    },
    "hidden": true
   },
   "outputs": [],
   "source": [
    "a = 'Pedro'\n",
    "b = 1\n",
    "\n",
    "if a == b:\n",
    "    print(True)\n",
    "else:\n",
    "    print(False)\n",
    "\n",
    "print(a > b)"
   ]
  },
  {
   "attachments": {},
   "cell_type": "markdown",
   "id": "554d54a2",
   "metadata": {
    "heading_collapsed": true
   },
   "source": [
    "# Resposta"
   ]
  },
  {
   "cell_type": "code",
   "execution_count": null,
   "id": "c87490b3",
   "metadata": {
    "ExecuteTime": {
     "end_time": "2022-05-05T22:57:33.005464Z",
     "start_time": "2022-05-05T22:57:24.502646Z"
    },
    "hidden": true
   },
   "outputs": [],
   "source": [
    "# Recebe o primeiro valor do usuario\n",
    "valor_1 = float(input('Informe o primeiro valor: '))\n",
    "\n",
    "# Cria a estrutura de para repetirmos as tentativas\n",
    "# de leitura\n",
    "for tentativa in range(1, 11):\n",
    "    \n",
    "    # print de debug\n",
    "    print(f'tentativa = {tentativa}')\n",
    "    \n",
    "    # Recebe o segundo valor do usuario\n",
    "    valor_2 = float(input('Informe o segundo valor: '))\n",
    "    \n",
    "    # Verifica se o valor digitado pelo usuario\n",
    "    # é diferente de zero\n",
    "    if valor_2 != 0:\n",
    "        # Se for diferente, o valor da tentativa\n",
    "        # será decrescido\n",
    "        tentativa = tentativa - 1\n",
    "        \n",
    "        # Interrompe a repetição dos comandos\n",
    "        break\n",
    "        \n",
    "    # pula uma linha\n",
    "    print()\n",
    "   \n",
    "        \n",
    "# Verifica se a quantidade de tentativas é igual a\n",
    "# a 10, que é a quantidade máxima de tentativas\n",
    "if tentativa == 10:\n",
    "    # Se for igual ao valor de tentativas máximas\n",
    "    # Exibiremos ao usuario a mensagem \n",
    "    print(f'Impossível divisão por ZERO')\n",
    "else:\n",
    "    # Se a quantidade de tentativas for menor que\n",
    "    # 10, fará a divisão e exibirá o resultado\n",
    "    divisao = valor_1 / valor_2\n",
    "    \n",
    "    # Imprime na tela o valor da divisão\n",
    "    print(f'O valor da divisão do valor {valor_1} com o valor {valor_2} é {divisao}')"
   ]
  }
 ],
 "metadata": {
  "kernelspec": {
   "display_name": "Python 3",
   "language": "python",
   "name": "python3"
  },
  "language_info": {
   "codemirror_mode": {
    "name": "ipython",
    "version": 3
   },
   "file_extension": ".py",
   "mimetype": "text/x-python",
   "name": "python",
   "nbconvert_exporter": "python",
   "pygments_lexer": "ipython3",
   "version": "3.10.5 (tags/v3.10.5:f377153, Jun  6 2022, 16:14:13) [MSC v.1929 64 bit (AMD64)]"
  },
  "latex_envs": {
   "LaTeX_envs_menu_present": true,
   "autoclose": false,
   "autocomplete": true,
   "bibliofile": "biblio.bib",
   "cite_by": "apalike",
   "current_citInitial": 1,
   "eqLabelWithNumbers": true,
   "eqNumInitial": 1,
   "hotkeys": {
    "equation": "Ctrl-E",
    "itemize": "Ctrl-I"
   },
   "labels_anchors": false,
   "latex_user_defs": false,
   "report_style_numbering": false,
   "user_envs_cfg": false
  },
  "toc": {
   "base_numbering": 1,
   "nav_menu": {},
   "number_sections": false,
   "sideBar": true,
   "skip_h1_title": false,
   "title_cell": "Table of Contents",
   "title_sidebar": "Contents",
   "toc_cell": false,
   "toc_position": {},
   "toc_section_display": true,
   "toc_window_display": false
  },
  "vscode": {
   "interpreter": {
    "hash": "df95319d8ce4e1d89f5365ae10992bc1f65da593082b1d264e8f529830ec2f02"
   }
  }
 },
 "nbformat": 4,
 "nbformat_minor": 5
}
