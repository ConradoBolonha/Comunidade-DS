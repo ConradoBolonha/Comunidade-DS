{
 "cells": [
  {
   "cell_type": "code",
   "execution_count": 1,
   "metadata": {},
   "outputs": [],
   "source": [
    "import pandas as pd\n",
    "\n",
    "df = pd.read_csv('D:\\Comunidade-DS/27-12-2022/aula_1.csv')"
   ]
  },
  {
   "cell_type": "code",
   "execution_count": 10,
   "metadata": {},
   "outputs": [
    {
     "data": {
      "text/plain": [
       "Index(['id', 'first_name', 'gender', 'age', 'married', 'recently_bought'], dtype='object')"
      ]
     },
     "execution_count": 10,
     "metadata": {},
     "output_type": "execute_result"
    }
   ],
   "source": [
    "df.columns"
   ]
  },
  {
   "cell_type": "code",
   "execution_count": 22,
   "metadata": {},
   "outputs": [
    {
     "name": "stdout",
     "output_type": "stream",
     "text": [
      "   id first_name  gender  age  married  recently_bought\n",
      "0   1    Kynthia  Female   59    False             True\n",
      "1   2     Calley  Female   17    False            False\n",
      "2   3    Therese    Male   60    False            False\n",
      "3   4         Ag    Male   21    False            False\n",
      "4   5    Chrissy    Male   26     True            False\n"
     ]
    }
   ],
   "source": [
    "print(df.head())"
   ]
  },
  {
   "attachments": {},
   "cell_type": "markdown",
   "metadata": {},
   "source": [
    "1. Selecione todas as mulheres maiores de 18 anos e menores de 65 anos.\n",
    "\n",
    "2. Selecione somente os homens que forem casados. Caso não sejam casados, selecione somente os que tiverem\n",
    "    feito uma compra no último mês na loja."
   ]
  },
  {
   "cell_type": "code",
   "execution_count": 28,
   "metadata": {},
   "outputs": [],
   "source": [
    "mul_maior = []\n",
    "hom_casad = []\n",
    "for index, row in df.iterrows():\n",
    "        if (row['age'] >= 18 and (row['age'] <= 65)):\n",
    "                mul_maior.append(row)"
   ]
  },
  {
   "cell_type": "code",
   "execution_count": null,
   "metadata": {},
   "outputs": [],
   "source": [
    "print(mul_maior)"
   ]
  },
  {
   "cell_type": "code",
   "execution_count": 3,
   "metadata": {},
   "outputs": [
    {
     "name": "stdout",
     "output_type": "stream",
     "text": [
      "12\n"
     ]
    }
   ],
   "source": [
    "n1 = int(input('Número 1: '))\n",
    "n2 = int(input('Número 2: '))\n",
    "n3 = int(input('Número 3: '))\n",
    "\n",
    "if n1 == n2 == n3:\n",
    "    print(f'O números são iguais e o resultado é ZERO')\n",
    "else:\n",
    "    print(n1 + n2 + n3)\n"
   ]
  }
 ],
 "metadata": {
  "kernelspec": {
   "display_name": "Python 3",
   "language": "python",
   "name": "python3"
  },
  "language_info": {
   "codemirror_mode": {
    "name": "ipython",
    "version": 3
   },
   "file_extension": ".py",
   "mimetype": "text/x-python",
   "name": "python",
   "nbconvert_exporter": "python",
   "pygments_lexer": "ipython3",
   "version": "3.10.5"
  },
  "orig_nbformat": 4,
  "vscode": {
   "interpreter": {
    "hash": "df95319d8ce4e1d89f5365ae10992bc1f65da593082b1d264e8f529830ec2f02"
   }
  }
 },
 "nbformat": 4,
 "nbformat_minor": 2
}
