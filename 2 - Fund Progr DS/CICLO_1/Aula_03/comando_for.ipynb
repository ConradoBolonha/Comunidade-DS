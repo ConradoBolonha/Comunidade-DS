{
 "cells": [
  {
   "cell_type": "code",
   "execution_count": null,
   "metadata": {},
   "outputs": [],
   "source": [
    "lista_um = [100, 200, 300, 400, 500]\n",
    "\n",
    "for indice, valor in enumerate(lista_um):\n",
    "    print(f'O índice {indice} tem o valor {valor}')\n",
    "    print('=============================')"
   ]
  },
  {
   "cell_type": "code",
   "execution_count": null,
   "metadata": {},
   "outputs": [],
   "source": [
    "num = int(input('Digite um número: '))\n",
    "\n",
    "for cont in range(0, 10):\n",
    "    print(f'{num} X {cont + 1} = {num * (cont + 1)}')\n"
   ]
  },
  {
   "cell_type": "code",
   "execution_count": null,
   "metadata": {},
   "outputs": [],
   "source": [
    "num_tab = int(input('Digite um número: '))\n",
    "\n",
    "if num_tab <= 0 or num_tab >= 11:\n",
    "    print('Tabuada com zero, negativa ou acima de 11 não é permitido!')\n",
    "else:\n",
    "    for cont in range(0, 10):\n",
    "        print(f'{num_tab} X {cont + 1} = {num_tab * (cont + 1)}')\n"
   ]
  }
 ],
 "metadata": {
  "kernelspec": {
   "display_name": "Python 3",
   "language": "python",
   "name": "python3"
  },
  "language_info": {
   "codemirror_mode": {
    "name": "ipython",
    "version": 3
   },
   "file_extension": ".py",
   "mimetype": "text/x-python",
   "name": "python",
   "nbconvert_exporter": "python",
   "pygments_lexer": "ipython3",
   "version": "3.10.5"
  },
  "orig_nbformat": 4,
  "vscode": {
   "interpreter": {
    "hash": "df95319d8ce4e1d89f5365ae10992bc1f65da593082b1d264e8f529830ec2f02"
   }
  }
 },
 "nbformat": 4,
 "nbformat_minor": 2
}
