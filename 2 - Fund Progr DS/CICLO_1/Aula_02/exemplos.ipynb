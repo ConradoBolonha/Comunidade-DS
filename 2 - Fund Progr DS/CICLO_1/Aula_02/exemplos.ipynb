{
 "cells": [
  {
   "cell_type": "markdown",
   "id": "356cb35d",
   "metadata": {
    "heading_collapsed": true
   },
   "source": [
    "# Exemplo 1"
   ]
  },
  {
   "cell_type": "markdown",
   "id": "96a0f0d7",
   "metadata": {
    "heading_collapsed": true,
    "hidden": true
   },
   "source": [
    "## Problema"
   ]
  },
  {
   "cell_type": "markdown",
   "id": "e9e8107f",
   "metadata": {
    "ExecuteTime": {
     "end_time": "2021-09-23T01:15:31.266217Z",
     "start_time": "2021-09-23T01:15:31.260904Z"
    },
    "hidden": true
   },
   "source": [
    "Codifique uma aplicação que receba como entrada dois números reais. A aplicação deve receber também um terceiro caractere, que deve ser +, -, * ou /. \n",
    "Após receber os dois números e o caractere de operação, a aplicação deverá realizar a operação indicada pelo caractere sobre os valores lidos.\n",
    "\n",
    "A aplicação deve imprimir os valores e o resultado da operação realizada sobre eles, como mostra o exemplo a seguir (usando exatamente uma casa decimal):\n",
    "\n",
    "\n",
    "`Informe o primeiro valor real: 4.5`  \n",
    "`Informe o segundo valor real: 5`  \n",
    "`Informe a operação a ser realizada: +`  \n",
    "`4.5 + 5.0 = 9.5`  \n",
    "\n",
    "\n",
    "A aplicação deve ainda verificar se o segundo número for igual a zero e não realizar a operação divisão, exibindo na tela a seguinte mensagem de erro ao usuário: `\"Impossível fazer Divisão por zero\"`."
   ]
  },
  {
   "cell_type": "markdown",
   "id": "111dc674",
   "metadata": {
    "ExecuteTime": {
     "end_time": "2021-09-23T01:18:10.271290Z",
     "start_time": "2021-09-23T01:18:10.267092Z"
    },
    "heading_collapsed": true,
    "hidden": true
   },
   "source": [
    "## Análise"
   ]
  },
  {
   "cell_type": "markdown",
   "id": "e21d12c5",
   "metadata": {
    "hidden": true
   },
   "source": [
    "Criar uma aplicação que receba 3 valores, sendo 2 numeros e um operador aritmetico.  \n",
    "A aplicação tem devolver a operação realizado com o operador e os dois números  \n",
    "a aplicação tem devolver a operação realizada  \n",
    "a aplicação não pode permitir divisão por zero  "
   ]
  },
  {
   "cell_type": "markdown",
   "id": "726b8569",
   "metadata": {
    "heading_collapsed": true,
    "hidden": true
   },
   "source": [
    "## Implicações / Proposições / Afirmações"
   ]
  },
  {
   "cell_type": "markdown",
   "id": "77884643",
   "metadata": {
    "hidden": true
   },
   "source": [
    "* Criar uma aplicação que receba 3 valores: sendo 2 numeros e um operador aritmetico.\n",
    "* A aplicação tem que realizar a operação informada com os dois números digitado pelo usuario\n",
    "* a aplicação tem devolver a operação realizada\n",
    "* a aplicação não pode permitir divisão por zero"
   ]
  },
  {
   "cell_type": "markdown",
   "id": "719448b9",
   "metadata": {
    "heading_collapsed": true,
    "hidden": true
   },
   "source": [
    "## Resolução e Resposta"
   ]
  },
  {
   "cell_type": "code",
   "execution_count": 15,
   "id": "9dfcfbfc",
   "metadata": {
    "ExecuteTime": {
     "end_time": "2021-10-28T01:11:56.714452Z",
     "start_time": "2021-10-28T01:11:52.290728Z"
    },
    "hidden": true
   },
   "outputs": [
    {
     "name": "stdout",
     "output_type": "stream",
     "text": [
      "Número zero não é aceito.\n"
     ]
    }
   ],
   "source": [
    "v1 = float(input('Digite um valor: '))\n",
    "v2 = float(input('Digite outro valor: '))\n",
    "oper = str(input('Digite operador aritmético: '))\n",
    "\n",
    "if oper == '/' and v1 == 0 or v2 == 0:\n",
    "    print('Número zero não é aceito.')\n",
    "else:    \n",
    "    if oper == '+':\n",
    "        print(f'A soma de {v1} e {v2} é {v1 + v2}')\n",
    "    elif oper == '-':\n",
    "        print(f'A subtração entre {v1} e {v2} é {v1 - v2}')\n",
    "    elif oper == '*':\n",
    "        print(f'A multiplicação entre {v1} e {v2} é {v1 * v2}')\n",
    "    else:\n",
    "        print(f'A divisão entre {v1} e {v2} é {v1 / v2}')\n"
   ]
  },
  {
   "cell_type": "markdown",
   "id": "2adb82d9",
   "metadata": {
    "heading_collapsed": true
   },
   "source": [
    "# Exemplo 2"
   ]
  },
  {
   "cell_type": "markdown",
   "id": "a74d2f08",
   "metadata": {
    "heading_collapsed": true,
    "hidden": true
   },
   "source": [
    "## Problema"
   ]
  },
  {
   "cell_type": "markdown",
   "id": "e3fee76a",
   "metadata": {
    "ExecuteTime": {
     "end_time": "2021-09-25T18:59:10.528659Z",
     "start_time": "2021-09-25T18:59:10.519979Z"
    },
    "hidden": true
   },
   "source": [
    "A prefeitura de Itapeva abriu uma linha de crédito para funcionários estatutários. O valor máximo da prestação não poderá ultrapassar 30% do salário bruto. Além disso, a quantidade máxima de parcelas é de 36 parcelas.\n",
    "\n",
    "Faça uma aplicação que permita entrar com o salário bruto, o valor do empréstimo e o número de parcelas. O programa deve informar o valor da parcela e se o empréstimo pode ou não ser concedido. \n",
    "\n",
    "Caso o empréstimo não possa ser concedido, informar o valor máximo do empréstimo."
   ]
  },
  {
   "cell_type": "markdown",
   "id": "17b79d8a",
   "metadata": {
    "ExecuteTime": {
     "end_time": "2021-09-23T01:18:10.271290Z",
     "start_time": "2021-09-23T01:18:10.267092Z"
    },
    "heading_collapsed": true,
    "hidden": true
   },
   "source": [
    "## Análise"
   ]
  },
  {
   "cell_type": "markdown",
   "id": "350c821a",
   "metadata": {
    "hidden": true
   },
   "source": [
    "Análise aqui"
   ]
  },
  {
   "cell_type": "markdown",
   "id": "c04c90ea",
   "metadata": {
    "heading_collapsed": true,
    "hidden": true
   },
   "source": [
    "## Implicações / Proposições / Afirmações"
   ]
  },
  {
   "cell_type": "markdown",
   "id": "bcacce4d",
   "metadata": {
    "hidden": true
   },
   "source": [
    "* Criar uma aplicação que receba: O salário Bruto, O Valor Total do Empréstimo e a Qtd Parcelas\n",
    "* A aplicação tem que informar se o empréstimo é possível ou não\n",
    "* Se for possível, a aplicação deve informar o valor da parcela e que o empréstimo é possível\n",
    "* Se NÃO for possível, a aplicação deve informar que o empréstimo não é possivel de ser feito e o valor máximo que pode ser emprestado\n",
    "* O Colaborador pode parcelar no máximo em 36 vezes o valor do empréstimo"
   ]
  },
  {
   "cell_type": "markdown",
   "id": "4f6c901b",
   "metadata": {
    "heading_collapsed": true,
    "hidden": true
   },
   "source": [
    "## Resolução Resposta"
   ]
  },
  {
   "cell_type": "code",
   "execution_count": null,
   "id": "bfeb96d9",
   "metadata": {
    "ExecuteTime": {
     "end_time": "2021-10-28T01:23:38.220072Z",
     "start_time": "2021-10-28T01:23:33.915175Z"
    },
    "hidden": true
   },
   "outputs": [],
   "source": [
    "# Resolução e Resposta Aqui"
   ]
  },
  {
   "cell_type": "code",
   "execution_count": null,
   "id": "dab7709f",
   "metadata": {
    "hidden": true
   },
   "outputs": [],
   "source": []
  }
 ],
 "metadata": {
  "kernelspec": {
   "display_name": "Python 3",
   "language": "python",
   "name": "python3"
  },
  "language_info": {
   "codemirror_mode": {
    "name": "ipython",
    "version": 3
   },
   "file_extension": ".py",
   "mimetype": "text/x-python",
   "name": "python",
   "nbconvert_exporter": "python",
   "pygments_lexer": "ipython3",
   "version": "3.10.5"
  },
  "latex_envs": {
   "LaTeX_envs_menu_present": true,
   "autoclose": false,
   "autocomplete": true,
   "bibliofile": "biblio.bib",
   "cite_by": "apalike",
   "current_citInitial": 1,
   "eqLabelWithNumbers": true,
   "eqNumInitial": 1,
   "hotkeys": {
    "equation": "Ctrl-E",
    "itemize": "Ctrl-I"
   },
   "labels_anchors": false,
   "latex_user_defs": false,
   "report_style_numbering": false,
   "user_envs_cfg": false
  },
  "vscode": {
   "interpreter": {
    "hash": "df95319d8ce4e1d89f5365ae10992bc1f65da593082b1d264e8f529830ec2f02"
   }
  }
 },
 "nbformat": 4,
 "nbformat_minor": 5
}
