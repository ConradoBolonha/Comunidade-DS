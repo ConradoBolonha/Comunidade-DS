{
 "cells": [
  {
   "cell_type": "markdown",
   "id": "356cb35d",
   "metadata": {
    "heading_collapsed": true
   },
   "source": [
    "# Exercício 1.0"
   ]
  },
  {
   "cell_type": "markdown",
   "id": "96a0f0d7",
   "metadata": {
    "heading_collapsed": true,
    "hidden": true
   },
   "source": [
    "## Problema"
   ]
  },
  {
   "cell_type": "markdown",
   "id": "e9e8107f",
   "metadata": {
    "ExecuteTime": {
     "end_time": "2021-09-23T01:15:31.266217Z",
     "start_time": "2021-09-23T01:15:31.260904Z"
    },
    "hidden": true
   },
   "source": [
    "Em uma loja e CD´s existem apenas quatro tipos de preços que estão associados a cores. Assim os CD´s que ficam na loja não são marcados por preços e sim por cores. \n",
    "\n",
    "Desenvolva uma aplicação que receba como entrada a cor do CD e mostre o preço. A loja está atualmente com a seguinte tabela de preços.\n",
    "\n",
    "| Cor | Preço|\n",
    "| :-: | :--: |\n",
    "| Verde    | R\\$ 10,00 |\n",
    "| Azul     | R\\$ 20,00 |\n",
    "| Amarelo  | R\\$ 30,00 |\n",
    "| Vermelho | R\\$ 40,00 |"
   ]
  },
  {
   "cell_type": "markdown",
   "id": "111dc674",
   "metadata": {
    "ExecuteTime": {
     "end_time": "2021-09-23T01:18:10.271290Z",
     "start_time": "2021-09-23T01:18:10.267092Z"
    },
    "heading_collapsed": true,
    "hidden": true
   },
   "source": [
    "## Análise"
   ]
  },
  {
   "cell_type": "markdown",
   "id": "e21d12c5",
   "metadata": {
    "hidden": true
   },
   "source": [
    "   Coloque a sua análise aqui"
   ]
  },
  {
   "cell_type": "markdown",
   "id": "726b8569",
   "metadata": {
    "heading_collapsed": true,
    "hidden": true
   },
   "source": [
    "## Implicações / Proposições / Afirmações"
   ]
  },
  {
   "cell_type": "markdown",
   "id": "77884643",
   "metadata": {
    "hidden": true
   },
   "source": [
    "Coloque as implicações / Proposições / Afirmações aqui"
   ]
  },
  {
   "cell_type": "markdown",
   "id": "719448b9",
   "metadata": {
    "heading_collapsed": true,
    "hidden": true
   },
   "source": [
    "## Resolução e Resposta"
   ]
  },
  {
   "cell_type": "code",
   "execution_count": 5,
   "id": "13a59a4f",
   "metadata": {
    "ExecuteTime": {
     "end_time": "2021-09-26T21:33:34.808097Z",
     "start_time": "2021-09-26T21:33:34.805732Z"
    },
    "hidden": true
   },
   "outputs": [
    {
     "name": "stdout",
     "output_type": "stream",
     "text": [
      "CDs de cor VERMELHO valem R$ 40.00\n"
     ]
    }
   ],
   "source": [
    "cor = str(input('Digite a cor Verde / Azul / Amarelo / Vermelho: ')).upper()\n",
    "if cor == 'VERDE':\n",
    "    vl_cd = 10.00\n",
    "elif cor == 'AZUL':\n",
    "    vl_cd = 20.00\n",
    "elif cor == 'AMARELO':\n",
    "    vl_cd = 30.00\n",
    "else:\n",
    "    vl_cd = 40.00\n",
    "print(f'CDs de cor {cor} valem R$ {vl_cd:.2f}')\n"
   ]
  },
  {
   "cell_type": "markdown",
   "id": "96ad9c04",
   "metadata": {},
   "source": [
    "# Exercício 2.0"
   ]
  },
  {
   "cell_type": "markdown",
   "id": "1e06d3df",
   "metadata": {},
   "source": [
    "## Problema"
   ]
  },
  {
   "cell_type": "markdown",
   "id": "fc746ae5",
   "metadata": {
    "ExecuteTime": {
     "end_time": "2021-09-26T21:34:24.080327Z",
     "start_time": "2021-09-26T21:34:24.070512Z"
    }
   },
   "source": [
    "Uma empresa decidiu dar uma gratificação de Natal a seus funcionários, baseada no número de horas extras e no número de horas que o funcionário faltou ao trabalho. O valor do prêmio é obtido pela consulta na tabela a seguir, em que:"
   ]
  },
  {
   "cell_type": "markdown",
   "id": "4450eac5",
   "metadata": {},
   "source": [
    "$$ H = (horas\\_extras) - 2/3 * (horas\\_falta) $$"
   ]
  },
  {
   "cell_type": "markdown",
   "id": "2217fdc7",
   "metadata": {},
   "source": [
    "| H | Gratificação |\n",
    "| :-: | :--------: |\n",
    "| Maior que 2400 | R\\$ 500,00 |\n",
    "| 1801 até 2400  | R\\$ 400,00 |\n",
    "| 1201 até 1800  | R\\$ 300,00 | \n",
    "| 600 até 1200   | R\\$ 200,00 |\n",
    "| Menor que 600  | R\\$ 100,00 |"
   ]
  },
  {
   "cell_type": "markdown",
   "id": "aa919e41",
   "metadata": {},
   "source": [
    "Faça uma aplicação que receba o número de horas extras e o número de horas-falta de um funcionário e imprima o valor de sua gratificação."
   ]
  },
  {
   "cell_type": "code",
   "execution_count": 34,
   "id": "eaaeeeb6",
   "metadata": {
    "ExecuteTime": {
     "end_time": "2022-04-04T19:48:59.473111Z",
     "start_time": "2022-04-04T19:48:55.718630Z"
    }
   },
   "outputs": [
    {
     "name": "stdout",
     "output_type": "stream",
     "text": [
      "Digite a quantidade de horas extras: 2000\n",
      "Digite a quantidade de horas faltantes: 500\n"
     ]
    }
   ],
   "source": [
    "horas_extras = int(input('Digite a quantidade de horas extras: '))\n",
    "horas_faltantes = int(input('Digite a quantidade de horas faltantes: '))"
   ]
  },
  {
   "cell_type": "code",
   "execution_count": 35,
   "id": "1a763cd8",
   "metadata": {
    "ExecuteTime": {
     "end_time": "2022-04-04T19:49:00.054432Z",
     "start_time": "2022-04-04T19:49:00.049979Z"
    }
   },
   "outputs": [
    {
     "data": {
      "text/plain": [
       "2000"
      ]
     },
     "execution_count": 35,
     "metadata": {},
     "output_type": "execute_result"
    }
   ],
   "source": [
    "horas_extras"
   ]
  },
  {
   "cell_type": "code",
   "execution_count": 36,
   "id": "674a3a57",
   "metadata": {
    "ExecuteTime": {
     "end_time": "2022-04-04T19:49:00.287315Z",
     "start_time": "2022-04-04T19:49:00.283049Z"
    }
   },
   "outputs": [
    {
     "data": {
      "text/plain": [
       "500"
      ]
     },
     "execution_count": 36,
     "metadata": {},
     "output_type": "execute_result"
    }
   ],
   "source": [
    "horas_faltantes"
   ]
  },
  {
   "cell_type": "code",
   "execution_count": null,
   "id": "36261328",
   "metadata": {},
   "outputs": [],
   "source": [
    "(ℎ𝑜𝑟𝑎𝑠_𝑒𝑥𝑡𝑟𝑎𝑠)−2/3∗(ℎ𝑜𝑟𝑎𝑠_𝑓𝑎𝑙𝑡𝑎)"
   ]
  },
  {
   "cell_type": "code",
   "execution_count": null,
   "id": "0da76926",
   "metadata": {},
   "outputs": [],
   "source": [
    "horas_extras -  2 / 3 * horas_faltantes "
   ]
  },
  {
   "cell_type": "code",
   "execution_count": null,
   "id": "d871322c",
   "metadata": {},
   "outputs": [],
   "source": []
  },
  {
   "cell_type": "code",
   "execution_count": null,
   "id": "c721833c",
   "metadata": {},
   "outputs": [],
   "source": []
  },
  {
   "cell_type": "code",
   "execution_count": 25,
   "id": "adb7a6b7",
   "metadata": {
    "ExecuteTime": {
     "end_time": "2022-04-04T19:44:30.778497Z",
     "start_time": "2022-04-04T19:44:30.775070Z"
    }
   },
   "outputs": [
    {
     "name": "stdout",
     "output_type": "stream",
     "text": [
      "R$ 200,00\n"
     ]
    }
   ],
   "source": [
    "\n",
    "# Maior que 2400\tR$ 500,00\n",
    "if h > 2400:\n",
    "    print(f'R$ 500,00')\n",
    "    \n",
    "# 1801 até 2400\tR$ 400,00\n",
    "#       1801 <= h <= 2400\n",
    "elif h >= 1801 and h <= 2400:\n",
    "    print(f'R$ 400,00')\n",
    "    \n",
    "# 1201 até 1800\tR$ 300,00\n",
    "elif h >= 1201 and h <= 1800:\n",
    "    print(f'R$ 300,00')\n",
    "    \n",
    "# 600 até 1200\tR$ 200,00\n",
    "elif h >= 600 and h <= 1200:\n",
    "    print(f'R$ 200,00')\n",
    "    \n",
    "# Menor que 600\tR$ 100,00\n",
    "else:\n",
    "    print(f'R$ 100,00')"
   ]
  },
  {
   "cell_type": "code",
   "execution_count": null,
   "id": "86cf1b6a",
   "metadata": {},
   "outputs": [],
   "source": [
    "h 500 1000"
   ]
  },
  {
   "cell_type": "code",
   "execution_count": null,
   "id": "be3709f1",
   "metadata": {},
   "outputs": [],
   "source": [
    "1800, 1801, ..., 2400, 2401"
   ]
  },
  {
   "cell_type": "code",
   "execution_count": null,
   "id": "4b2c12d7",
   "metadata": {},
   "outputs": [],
   "source": [
    "[2, 10[\n",
    "    \n",
    "2, 3, 4, 5, 6, 7, 8, 9"
   ]
  },
  {
   "cell_type": "code",
   "execution_count": 8,
   "id": "b01ecb6f",
   "metadata": {
    "ExecuteTime": {
     "end_time": "2022-04-04T19:21:35.254369Z",
     "start_time": "2022-04-04T19:21:35.251976Z"
    }
   },
   "outputs": [],
   "source": [
    "idade = 16\n",
    "nome = 'Pedro'"
   ]
  },
  {
   "cell_type": "code",
   "execution_count": 10,
   "id": "0917d841",
   "metadata": {
    "ExecuteTime": {
     "end_time": "2022-04-04T19:22:06.765281Z",
     "start_time": "2022-04-04T19:22:06.761939Z"
    }
   },
   "outputs": [
    {
     "name": "stdout",
     "output_type": "stream",
     "text": [
      "Verdadeiro\n"
     ]
    }
   ],
   "source": [
    "if idade > 18 or nome == 'Pedro':\n",
    "    print('Verdadeiro')"
   ]
  },
  {
   "cell_type": "code",
   "execution_count": null,
   "id": "d79b420a",
   "metadata": {},
   "outputs": [],
   "source": [
    "operador logico"
   ]
  },
  {
   "cell_type": "code",
   "execution_count": null,
   "id": "db390e4d",
   "metadata": {},
   "outputs": [],
   "source": []
  },
  {
   "cell_type": "code",
   "execution_count": null,
   "id": "c79a8b49",
   "metadata": {},
   "outputs": [],
   "source": []
  },
  {
   "cell_type": "code",
   "execution_count": null,
   "id": "63a6b038",
   "metadata": {},
   "outputs": [],
   "source": []
  },
  {
   "cell_type": "code",
   "execution_count": null,
   "id": "e27eaa45",
   "metadata": {},
   "outputs": [],
   "source": []
  },
  {
   "cell_type": "markdown",
   "id": "ad401bca",
   "metadata": {
    "ExecuteTime": {
     "end_time": "2021-09-23T01:18:10.271290Z",
     "start_time": "2021-09-23T01:18:10.267092Z"
    },
    "heading_collapsed": true
   },
   "source": [
    "## Análise"
   ]
  },
  {
   "cell_type": "markdown",
   "id": "83539f7e",
   "metadata": {
    "hidden": true
   },
   "source": [
    "   Coloque a sua análise aqui"
   ]
  },
  {
   "cell_type": "markdown",
   "id": "81a53233",
   "metadata": {
    "heading_collapsed": true
   },
   "source": [
    "## Implicações / Proposições / Afirmações"
   ]
  },
  {
   "cell_type": "markdown",
   "id": "f52d843d",
   "metadata": {
    "hidden": true
   },
   "source": [
    "Coloque as implicações / Proposições / Afirmações aqui"
   ]
  },
  {
   "cell_type": "markdown",
   "id": "1db898e9",
   "metadata": {
    "heading_collapsed": true
   },
   "source": [
    "## Resolução e Resposta"
   ]
  },
  {
   "cell_type": "code",
   "execution_count": 1,
   "id": "2647d785",
   "metadata": {
    "ExecuteTime": {
     "end_time": "2021-09-26T21:33:34.808097Z",
     "start_time": "2021-09-26T21:33:34.805732Z"
    },
    "hidden": true
   },
   "outputs": [],
   "source": [
    "# Resolução e Resposta Aqui"
   ]
  },
  {
   "cell_type": "code",
   "execution_count": null,
   "id": "5615783f",
   "metadata": {},
   "outputs": [],
   "source": [
    "idade = 45\n",
    "if idade:\n",
    "    print(idade)\n"
   ]
  },
  {
   "cell_type": "code",
   "execution_count": null,
   "id": "1e95860c",
   "metadata": {},
   "outputs": [],
   "source": [
    "n1 = float(input('Digite um número: '))\n",
    "n2 = float(input('Digite outro número: '))\n",
    "oper = input('Digite o operador aritmético: (+, -, *, ou /')\n",
    "\n",
    "if n2 == 0 and oper == '/':\n",
    "    print('Impossível a divisão por zero')\n",
    "elif oper == '+':\n",
    "    result = n1 + n2\n",
    "elif oper == '-':\n",
    "    result = n1 - n2\n",
    "elif oper == '*':\n",
    "    result = n1 * n2\n",
    "else:\n",
    "    result = n1 / n2\n",
    "    print(f'{n1} {oper} {n2} = {result}')\n",
    "print('FIM')\n",
    "print()"
   ]
  },
  {
   "cell_type": "code",
   "execution_count": null,
   "id": "d51880e2",
   "metadata": {},
   "outputs": [],
   "source": [
    "vl1 = float(input('Digite o valor do salário: R$ '))\n",
    "vl_emprest = float(input('Digite o valor do empréstimo: R$ '))\n",
    "percent = vl1 * 0.3\n",
    "\n",
    "if vl_emprest >= percent:\n",
    "    print(f'O valor não pode superar 30% sobre o salário bruto.')\n",
    "else:\n",
    "    parc = float(input('Digite a quantidade de parcelas (Até 10X): '))\n",
    "    if parc > 10:\n",
    "        print('Quantidade de parcelas não pode ser superior a 10X')\n",
    "    else:\n",
    "        vl_parcelas = vl_emprest / parc\n",
    "        print(f'R$ {vl_emprest:.2f} em {parc:.0f} parcelas de R$ {vl_parcelas:.2f}')\n",
    "\n"
   ]
  }
 ],
 "metadata": {
  "kernelspec": {
   "display_name": "Python 3",
   "language": "python",
   "name": "python3"
  },
  "language_info": {
   "codemirror_mode": {
    "name": "ipython",
    "version": 3
   },
   "file_extension": ".py",
   "mimetype": "text/x-python",
   "name": "python",
   "nbconvert_exporter": "python",
   "pygments_lexer": "ipython3",
   "version": "3.10.5"
  },
  "latex_envs": {
   "LaTeX_envs_menu_present": true,
   "autoclose": false,
   "autocomplete": true,
   "bibliofile": "biblio.bib",
   "cite_by": "apalike",
   "current_citInitial": 1,
   "eqLabelWithNumbers": true,
   "eqNumInitial": 1,
   "hotkeys": {
    "equation": "Ctrl-E",
    "itemize": "Ctrl-I"
   },
   "labels_anchors": false,
   "latex_user_defs": false,
   "report_style_numbering": false,
   "user_envs_cfg": false
  },
  "vscode": {
   "interpreter": {
    "hash": "df95319d8ce4e1d89f5365ae10992bc1f65da593082b1d264e8f529830ec2f02"
   }
  }
 },
 "nbformat": 4,
 "nbformat_minor": 5
}
